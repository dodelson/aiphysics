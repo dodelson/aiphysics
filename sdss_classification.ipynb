{
 "cells": [
  {
   "cell_type": "code",
   "execution_count": 338,
   "metadata": {},
   "outputs": [],
   "source": [
    "import tensorflow as tf\n",
    "from tensorflow import keras\n",
    "import pandas as pd\n",
    "import matplotlib.pyplot as plt"
   ]
  },
  {
   "cell_type": "code",
   "execution_count": 340,
   "metadata": {},
   "outputs": [],
   "source": [
    "#From\n",
    "#https://www.kaggle.com/lucidlenn/sloan-digital-sky-survey\n",
    "sdss=pd.read_csv('/Users/sdodelso/AI_Institute/Course/Skyserver_SQL2_27_2018 6_51_39 PM.csv')"
   ]
  },
  {
   "cell_type": "code",
   "execution_count": 343,
   "metadata": {},
   "outputs": [],
   "source": [
    "## Convert class column to integer\n",
    "sdss[\"class\"]=np.where(sdss[\"class\"]=='QSO','2',sdss[\"class\"])#.astype(int)\n",
    "sdss[\"class\"]=np.where(sdss[\"class\"]=='STAR','0',sdss[\"class\"])#.astype(int)\n",
    "sdss[\"class\"]=np.where(sdss[\"class\"]=='GALAXY','1',sdss[\"class\"])#.astype(int)\n",
    "sdssc=sdss.astype({'class':int})\n",
    "#sdssc.info()"
   ]
  },
  {
   "cell_type": "markdown",
   "metadata": {},
   "source": [
    "We want to see if we can distinguish between QSOs and stars. Galaxies can be more easily distinguished typically because they\n",
    "are bigger, although that begins to fail for faint galaxies"
   ]
  },
  {
   "cell_type": "code",
   "execution_count": 353,
   "metadata": {},
   "outputs": [
    {
     "name": "stdout",
     "output_type": "stream",
     "text": [
      "(5002, 18)\n",
      "(5002,) (5002, 17)\n",
      "(4001,) (4001, 17)\n"
     ]
    }
   ],
   "source": [
    "## First simply remove the galaxies\n",
    "point_sources = sdssc[sdssc[\"class\"]!=1]\n",
    "print(np.shape(point_sources))\n",
    "## Now create the labels (or targets) and remove those from the frame\n",
    "y = point_sources[\"class\"]\n",
    "X=point_sources.drop(columns=\"class\",axis=1)\n",
    "print(np.shape(y),np.shape(X))\n",
    "### Now create a training set and a test set\n",
    "ntrain=int(.8*np.shape(X)[0])\n",
    "Xtrain,Xtest,ytrain,ytest=X[:ntrain],X[ntrain:],y[:ntrain],y[ntrain:]\n",
    "print(np.shape(ytrain),np.shape(Xtrain))\n"
   ]
  },
  {
   "cell_type": "code",
   "execution_count": 381,
   "metadata": {},
   "outputs": [
    {
     "data": {
      "text/plain": [
       "Pipeline(steps=[('standardscaler', StandardScaler()),\n",
       "                ('sgdclassifier', SGDClassifier())])"
      ]
     },
     "execution_count": 381,
     "metadata": {},
     "output_type": "execute_result"
    }
   ],
   "source": [
    "from sklearn.linear_model import SGDClassifier\n",
    "from sklearn.preprocessing import StandardScaler #scale the data\n",
    "from sklearn.pipeline import make_pipeline\n",
    "from sklearn.metrics import confusion_matrix\n",
    "clf = make_pipeline(StandardScaler(),SGDClassifier(max_iter=1000, tol=1e-3))\n",
    "clf.fit(Xtrain,ytrain)\n"
   ]
  },
  {
   "cell_type": "code",
   "execution_count": 392,
   "metadata": {},
   "outputs": [
    {
     "name": "stdout",
     "output_type": "stream",
     "text": [
      "0 (4001,)\n"
     ]
    },
    {
     "data": {
      "text/plain": [
       "array([[3326,    2],\n",
       "       [   9,  664]])"
      ]
     },
     "execution_count": 392,
     "metadata": {},
     "output_type": "execute_result"
    }
   ],
   "source": [
    "st_predict=clf.predict(Xtrain)\n",
    "print(st_predict[2],st_predict.shape)\n",
    "confusion_matrix(ytrain,st_predict)"
   ]
  },
  {
   "cell_type": "code",
   "execution_count": 400,
   "metadata": {},
   "outputs": [
    {
     "name": "stdout",
     "output_type": "stream",
     "text": [
      "3335\n",
      "664\n"
     ]
    }
   ],
   "source": [
    "#So there are 3326 stars correctly identified and 664 qso correctly identified.\n",
    "#Check this:\n",
    "star_matches=0\n",
    "print(np.size(np.where(st_predict==0)))\n",
    "for i in range(ntrain):\n",
    "    if (ytrain.iloc[i]==2):\n",
    "        if (st_predict[i])==2:\n",
    "            star_matches+=1\n",
    "print(star_matches)"
   ]
  },
  {
   "cell_type": "markdown",
   "metadata": {},
   "source": [
    "So, this simple classifier does pretty well, correctly separating QSOs from stars. Let's try it on the test set"
   ]
  },
  {
   "cell_type": "code",
   "execution_count": 401,
   "metadata": {},
   "outputs": [
    {
     "data": {
      "text/plain": [
       "array([[824,   0],\n",
       "       [  2, 175]])"
      ]
     },
     "execution_count": 401,
     "metadata": {},
     "output_type": "execute_result"
    }
   ],
   "source": [
    "st_predict_test=clf.predict(Xtest)\n",
    "confusion_matrix(ytest,st_predict_test)"
   ]
  },
  {
   "cell_type": "markdown",
   "metadata": {},
   "source": [
    "nice!"
   ]
  },
  {
   "cell_type": "code",
   "execution_count": 416,
   "metadata": {},
   "outputs": [
    {
     "name": "stdout",
     "output_type": "stream",
     "text": [
      "Index(['objid', 'ra', 'dec', 'u', 'g', 'r', 'i', 'z', 'run', 'rerun', 'camcol',\n",
      "       'field', 'specobjid', 'redshift', 'plate', 'mjd', 'fiberid'],\n",
      "      dtype='object')\n",
      "[[-3.17572336 -0.24951561  0.37939897 -0.91710154  3.17124486 -0.14032076\n",
      "  -1.60904882 -0.76365171 -0.15408977  0.          0.39220797 -0.225937\n",
      "  -0.01277408 12.34478405 -0.01276902 -0.28985543  0.06794617]]\n"
     ]
    }
   ],
   "source": [
    "# Can we try to find the coefficients:\n",
    "n=np.shape(Xtrain)[1]\n",
    "print(Xtrain.columns)\n",
    "print(clf.named_steps['sgdclassifier'].coef_)"
   ]
  },
  {
   "cell_type": "markdown",
   "metadata": {},
   "source": [
    "not really fair because the redshift is given, so remove the redshift column, and just to make sure remove the plate column as well."
   ]
  },
  {
   "cell_type": "code",
   "execution_count": 418,
   "metadata": {},
   "outputs": [
    {
     "name": "stdout",
     "output_type": "stream",
     "text": [
      "(5002,) (5002, 15)\n",
      "(4001,) (4001, 15)\n"
     ]
    }
   ],
   "source": [
    "X=point_sources.drop(columns=[\"class\",\"redshift\",\"plate\"],axis=1)\n",
    "print(np.shape(y),np.shape(X))\n",
    "### Now create a training set and a test set\n",
    "ntrain=int(.8*np.shape(X)[0])\n",
    "Xtrain,Xtest,ytrain,ytest=X[:ntrain],X[ntrain:],y[:ntrain],y[ntrain:]\n",
    "print(np.shape(ytrain),np.shape(Xtrain))\n"
   ]
  },
  {
   "cell_type": "code",
   "execution_count": 429,
   "metadata": {},
   "outputs": [
    {
     "name": "stdout",
     "output_type": "stream",
     "text": [
      "0 (4001,)\n"
     ]
    },
    {
     "data": {
      "text/plain": [
       "array([[3279,   49],\n",
       "       [  88,  585]])"
      ]
     },
     "execution_count": 429,
     "metadata": {},
     "output_type": "execute_result"
    }
   ],
   "source": [
    "clf.fit(Xtrain,ytrain)\n",
    "st_predict=clf.predict(Xtrain)\n",
    "print(st_predict[2],st_predict.shape)\n",
    "confusion_matrix(ytrain,st_predict)"
   ]
  },
  {
   "cell_type": "code",
   "execution_count": 430,
   "metadata": {},
   "outputs": [
    {
     "name": "stdout",
     "output_type": "stream",
     "text": [
      "49\n"
     ]
    }
   ],
   "source": [
    "#more reasonable i guess with 67 of the stars mis-classified as QSOs and 87 of the QSO's \n",
    "#mis-classified as stars. Check this:\n",
    "star_misses=0\n",
    "for i in range(ntrain):\n",
    "    if (ytrain.iloc[i]==0):\n",
    "        if (st_predict[i])==2:\n",
    "            star_misses+=1\n",
    "print(star_misses)"
   ]
  },
  {
   "cell_type": "code",
   "execution_count": 431,
   "metadata": {},
   "outputs": [
    {
     "name": "stdout",
     "output_type": "stream",
     "text": [
      "0.9852764423076923 0.9738639738639738\n",
      "0.8692421991084696 0.9227129337539433\n"
     ]
    }
   ],
   "source": [
    "#Quantitatively, \n",
    "cm=confusion_matrix(ytrain,st_predict)\n",
    "precision = cm[0,0]/(cm[0,0]+cm[0,1])\n",
    "recall = cm[0,0]/(cm[0,0]+cm[1,0])\n",
    "print(precision,recall)\n",
    "#on QSOs\n",
    "precision = cm[1,1]/(cm[1,1]+cm[1,0])\n",
    "recall = cm[1,1]/(cm[1,1]+cm[0,1])\n",
    "print(precision,recall)"
   ]
  },
  {
   "cell_type": "code",
   "execution_count": 432,
   "metadata": {},
   "outputs": [
    {
     "data": {
      "text/plain": [
       "array([[813,  11],\n",
       "       [ 27, 150]])"
      ]
     },
     "execution_count": 432,
     "metadata": {},
     "output_type": "execute_result"
    }
   ],
   "source": [
    "#Now try on test set\n",
    "st_predict=clf.predict(Xtest)\n",
    "confusion_matrix(ytest,st_predict)\n"
   ]
  },
  {
   "cell_type": "code",
   "execution_count": 433,
   "metadata": {},
   "outputs": [
    {
     "name": "stdout",
     "output_type": "stream",
     "text": [
      "0.9866504854368932 0.9678571428571429\n",
      "0.847457627118644 0.9316770186335404\n"
     ]
    }
   ],
   "source": [
    "#Quantitatively, \n",
    "cm=confusion_matrix(ytest,st_predict)\n",
    "precision = cm[0,0]/(cm[0,0]+cm[0,1])\n",
    "recall = cm[0,0]/(cm[0,0]+cm[1,0])\n",
    "print(precision,recall)\n",
    "#on QSOs\n",
    "precision = cm[1,1]/(cm[1,1]+cm[1,0])\n",
    "recall = cm[1,1]/(cm[1,1]+cm[0,1])\n",
    "print(precision,recall)"
   ]
  },
  {
   "cell_type": "code",
   "execution_count": 434,
   "metadata": {},
   "outputs": [
    {
     "name": "stdout",
     "output_type": "stream",
     "text": [
      "Index(['objid', 'ra', 'dec', 'u', 'g', 'r', 'i', 'z', 'run', 'rerun', 'camcol',\n",
      "       'field', 'specobjid', 'mjd', 'fiberid'],\n",
      "      dtype='object')\n",
      "[[-4.14533041e+00  3.27635164e-01  2.22357538e-03 -5.15812352e+00\n",
      "   1.05092705e+01  4.26776872e-01 -1.71346735e+00 -3.72953470e+00\n",
      "  -2.12812216e-01  0.00000000e+00  1.14576562e-01 -7.96585274e-02\n",
      "   2.26458194e-01 -5.62589801e-01  1.68619150e-01]]\n"
     ]
    }
   ],
   "source": [
    "#look at the coefficients\n",
    "print(Xtrain.columns)\n",
    "print(clf.named_steps['sgdclassifier'].coef_)"
   ]
  },
  {
   "cell_type": "code",
   "execution_count": 474,
   "metadata": {},
   "outputs": [
    {
     "data": {
      "text/plain": [
       "Text(0.5, 1.0, 'QSO: yellow; Stars: blue')"
      ]
     },
     "execution_count": 474,
     "metadata": {},
     "output_type": "execute_result"
    },
    {
     "data": {
      "image/png": "[encoded data removed]",
      "text/plain": [
       "<Figure size 432x288 with 1 Axes>"
      ]
     },
     "metadata": {
      "needs_background": "light"
     },
     "output_type": "display_data"
    }
   ],
   "source": [
    "#looks like u,g,i,z are most important. look at colors: \n",
    "# bluest things have large values of i-u. brightest things have smallest g:\n",
    "u=point_sources[\"u\"]\n",
    "u=(u-np.mean(u))/np.std(u)\n",
    "g=point_sources[\"g\"]\n",
    "g=(g-np.mean(g))/np.std(g)\n",
    "i=point_sources[\"i\"]\n",
    "i=(i-np.mean(i))/np.std(i)\n",
    "r=point_sources[\"r\"]\n",
    "r=(r-np.mean(r))/np.std(r)\n",
    "z=point_sources[\"z\"]\n",
    "z=(z-np.mean(z))/np.std(z)\n",
    "o=point_sources[\"objid\"]\n",
    "o=(o-np.mean(o))/np.std(o)\n",
    "\n",
    "plt.scatter(point_sources[\"u\"]-point_sources[\"i\"],-5.16*u+10.5*g+.427*r-1.71*i-3.73*z,s=5,alpha=1,c=point_sources[\"class\"])\n",
    "plt.axis([-2,5,-7,10])\n",
    "plt.xlabel('Redness: u-i')\n",
    "plt.ylabel(\"Linear Combination\")\n",
    "plt.title('QSO: yellow; Stars: blue')"
   ]
  },
  {
   "cell_type": "markdown",
   "metadata": {},
   "source": [
    "So, stars are redder, but just cutting on redness (collapsing the y-axis) doesn't do as good a job as collapsing the x-axis"
   ]
  },
  {
   "cell_type": "code",
   "execution_count": null,
   "metadata": {},
   "outputs": [],
   "source": []
  }
 ],
 "metadata": {
  "kernelspec": {
   "display_name": "Python 3",
   "language": "python",
   "name": "python3"
  },
  "language_info": {
   "codemirror_mode": {
    "name": "ipython",
    "version": 3
   },
   "file_extension": ".py",
   "mimetype": "text/x-python",
   "name": "python",
   "nbconvert_exporter": "python",
   "pygments_lexer": "ipython3",
   "version": "3.6.2"
  }
 },
 "nbformat": 4,
 "nbformat_minor": 4
}
