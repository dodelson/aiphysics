{
 "cells": [
  {
   "cell_type": "code",
   "execution_count": 2,
   "id": "7c69a049",
   "metadata": {},
   "outputs": [],
   "source": [
    "import numpy as np\n",
    "import matplotlib.pyplot as plt\n",
    "from scipy.integrate import quad\n"
   ]
  },
  {
   "cell_type": "code",
   "execution_count": 15,
   "id": "d9a0d3c9",
   "metadata": {},
   "outputs": [],
   "source": [
    "## \"ISW and Phi kernels\"\n",
    "omegam=0.28\n",
    "def hub(z):\n",
    "    return np.sqrt(omegam*(1.+z)**3+(1.-omegam))\n",
    "def chiint(z):\n",
    "    hubinv=2997./hub(z)\n",
    "    return hubinv\n",
    "def chi(z): # in units of h^{-1} Mpc\n",
    "    a,e=quad(chiint, 0, z)\n",
    "    return a\n",
    "def grint(z):\n",
    "    #\\int da/(a^3[H/H_0]^3) = \\int dz (1+z)/[H/H_0]^3\n",
    "    return (1.+z)/hub(z)**3"
   ]
  },
  {
   "cell_type": "code",
   "execution_count": 29,
   "id": "0551c633",
   "metadata": {},
   "outputs": [
    {
     "data": {
      "text/plain": [
       "[<matplotlib.lines.Line2D at 0x142b87a60>]"
      ]
     },
     "execution_count": 29,
     "metadata": {},
     "output_type": "execute_result"
    },
    {
     "data": {
      "image/png": "[encoded data removed]",
      "text/plain": [
       "<Figure size 432x288 with 1 Axes>"
      ]
     },
     "metadata": {
      "needs_background": "light"
     },
     "output_type": "display_data"
    }
   ],
   "source": [
    "## Growth function\n",
    "infty=100.\n",
    "zarr=np.arange(0.01,10.,.01)\n",
    "grarr=[]\n",
    "for z in zarr:\n",
    "    a,e=quad(grint,z,infty)\n",
    "    grarr.append(2.5*omegam*hub(z)*a*(1.+z))\n",
    "grarr=np.array(grarr)\n",
    "plt.plot(zarr,grarr)\n",
    "def omz(z):\n",
    "    return (omegam*(1.+z)**3)/(omegam*(1.+z)**3+1.-omegam)\n",
    "plt.plot(zarr,omz(zarr))"
   ]
  },
  {
   "cell_type": "code",
   "execution_count": null,
   "id": "e2bbe428",
   "metadata": {},
   "outputs": [],
   "source": []
  }
 ],
 "metadata": {
  "kernelspec": {
   "display_name": "Python 3 (ipykernel)",
   "language": "python",
   "name": "python3"
  },
  "language_info": {
   "codemirror_mode": {
    "name": "ipython",
    "version": 3
   },
   "file_extension": ".py",
   "mimetype": "text/x-python",
   "name": "python",
   "nbconvert_exporter": "python",
   "pygments_lexer": "ipython3",
   "version": "3.9.5"
  }
 },
 "nbformat": 4,
 "nbformat_minor": 5
}
