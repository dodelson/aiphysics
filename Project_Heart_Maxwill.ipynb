{
 "cells": [
  {
   "cell_type": "markdown",
   "metadata": {},
   "source": [
    "# Project Heart"
   ]
  },
  {
   "cell_type": "markdown",
   "metadata": {},
   "source": [
    "## 1 Goals\n",
    "\n",
    "1. Build a black box that inputs all the features and predicts whether or not the patient will have heart trouble (\"output\"). \n",
    "\n",
    "2. Show some plots that have histograms of various features\n",
    "\n",
    "3. Correlations between features."
   ]
  },
  {
   "cell_type": "markdown",
   "metadata": {},
   "source": [
    "## 2 File Information"
   ]
  },
  {
   "cell_type": "code",
   "execution_count": 94,
   "metadata": {},
   "outputs": [],
   "source": [
    "import numpy as np\n",
    "import matplotlib.pyplot as plt\n",
    "from scipy import signal\n",
    "import pandas as pd"
   ]
  },
  {
   "cell_type": "code",
   "execution_count": 95,
   "metadata": {},
   "outputs": [
    {
     "name": "stdout",
     "output_type": "stream",
     "text": [
      "<class 'pandas.core.frame.DataFrame'>\n",
      "RangeIndex: 303 entries, 0 to 302\n",
      "Data columns (total 14 columns):\n",
      "age         303 non-null int64\n",
      "sex         303 non-null int64\n",
      "cp          303 non-null int64\n",
      "trtbps      303 non-null int64\n",
      "chol        303 non-null int64\n",
      "fbs         303 non-null int64\n",
      "restecg     303 non-null int64\n",
      "thalachh    303 non-null int64\n",
      "exng        303 non-null int64\n",
      "oldpeak     303 non-null float64\n",
      "slp         303 non-null int64\n",
      "caa         303 non-null int64\n",
      "thall       303 non-null int64\n",
      "output      303 non-null int64\n",
      "dtypes: float64(1), int64(13)\n",
      "memory usage: 33.2 KB\n"
     ]
    }
   ],
   "source": [
    "file='heart.csv'\n",
    "heart = pd.read_csv(file)\n",
    "heart.info()"
   ]
  },
  {
   "cell_type": "code",
   "execution_count": 96,
   "metadata": {},
   "outputs": [
    {
     "data": {
      "text/html": [
       "<div>\n",
       "<style scoped>\n",
       "    .dataframe tbody tr th:only-of-type {\n",
       "        vertical-align: middle;\n",
       "    }\n",
       "\n",
       "    .dataframe tbody tr th {\n",
       "        vertical-align: top;\n",
       "    }\n",
       "\n",
       "    .dataframe thead th {\n",
       "        text-align: right;\n",
       "    }\n",
       "</style>\n",
       "<table border=\"1\" class=\"dataframe\">\n",
       "  <thead>\n",
       "    <tr style=\"text-align: right;\">\n",
       "      <th></th>\n",
       "      <th>age</th>\n",
       "      <th>sex</th>\n",
       "      <th>cp</th>\n",
       "      <th>trtbps</th>\n",
       "      <th>chol</th>\n",
       "      <th>fbs</th>\n",
       "      <th>restecg</th>\n",
       "      <th>thalachh</th>\n",
       "      <th>exng</th>\n",
       "      <th>oldpeak</th>\n",
       "      <th>slp</th>\n",
       "      <th>caa</th>\n",
       "      <th>thall</th>\n",
       "      <th>output</th>\n",
       "    </tr>\n",
       "  </thead>\n",
       "  <tbody>\n",
       "    <tr>\n",
       "      <th>0</th>\n",
       "      <td>63</td>\n",
       "      <td>1</td>\n",
       "      <td>3</td>\n",
       "      <td>145</td>\n",
       "      <td>233</td>\n",
       "      <td>1</td>\n",
       "      <td>0</td>\n",
       "      <td>150</td>\n",
       "      <td>0</td>\n",
       "      <td>2.3</td>\n",
       "      <td>0</td>\n",
       "      <td>0</td>\n",
       "      <td>1</td>\n",
       "      <td>1</td>\n",
       "    </tr>\n",
       "    <tr>\n",
       "      <th>1</th>\n",
       "      <td>37</td>\n",
       "      <td>1</td>\n",
       "      <td>2</td>\n",
       "      <td>130</td>\n",
       "      <td>250</td>\n",
       "      <td>0</td>\n",
       "      <td>1</td>\n",
       "      <td>187</td>\n",
       "      <td>0</td>\n",
       "      <td>3.5</td>\n",
       "      <td>0</td>\n",
       "      <td>0</td>\n",
       "      <td>2</td>\n",
       "      <td>1</td>\n",
       "    </tr>\n",
       "    <tr>\n",
       "      <th>2</th>\n",
       "      <td>41</td>\n",
       "      <td>0</td>\n",
       "      <td>1</td>\n",
       "      <td>130</td>\n",
       "      <td>204</td>\n",
       "      <td>0</td>\n",
       "      <td>0</td>\n",
       "      <td>172</td>\n",
       "      <td>0</td>\n",
       "      <td>1.4</td>\n",
       "      <td>2</td>\n",
       "      <td>0</td>\n",
       "      <td>2</td>\n",
       "      <td>1</td>\n",
       "    </tr>\n",
       "    <tr>\n",
       "      <th>3</th>\n",
       "      <td>56</td>\n",
       "      <td>1</td>\n",
       "      <td>1</td>\n",
       "      <td>120</td>\n",
       "      <td>236</td>\n",
       "      <td>0</td>\n",
       "      <td>1</td>\n",
       "      <td>178</td>\n",
       "      <td>0</td>\n",
       "      <td>0.8</td>\n",
       "      <td>2</td>\n",
       "      <td>0</td>\n",
       "      <td>2</td>\n",
       "      <td>1</td>\n",
       "    </tr>\n",
       "    <tr>\n",
       "      <th>4</th>\n",
       "      <td>57</td>\n",
       "      <td>0</td>\n",
       "      <td>0</td>\n",
       "      <td>120</td>\n",
       "      <td>354</td>\n",
       "      <td>0</td>\n",
       "      <td>1</td>\n",
       "      <td>163</td>\n",
       "      <td>1</td>\n",
       "      <td>0.6</td>\n",
       "      <td>2</td>\n",
       "      <td>0</td>\n",
       "      <td>2</td>\n",
       "      <td>1</td>\n",
       "    </tr>\n",
       "  </tbody>\n",
       "</table>\n",
       "</div>"
      ],
      "text/plain": [
       "   age  sex  cp  trtbps  chol  fbs  restecg  thalachh  exng  oldpeak  slp  \\\n",
       "0   63    1   3     145   233    1        0       150     0      2.3    0   \n",
       "1   37    1   2     130   250    0        1       187     0      3.5    0   \n",
       "2   41    0   1     130   204    0        0       172     0      1.4    2   \n",
       "3   56    1   1     120   236    0        1       178     0      0.8    2   \n",
       "4   57    0   0     120   354    0        1       163     1      0.6    2   \n",
       "\n",
       "   caa  thall  output  \n",
       "0    0      1       1  \n",
       "1    0      2       1  \n",
       "2    0      2       1  \n",
       "3    0      2       1  \n",
       "4    0      2       1  "
      ]
     },
     "execution_count": 96,
     "metadata": {},
     "output_type": "execute_result"
    }
   ],
   "source": [
    "heart.head()"
   ]
  },
  {
   "cell_type": "code",
   "execution_count": 97,
   "metadata": {},
   "outputs": [
    {
     "data": {
      "text/html": [
       "<div>\n",
       "<style scoped>\n",
       "    .dataframe tbody tr th:only-of-type {\n",
       "        vertical-align: middle;\n",
       "    }\n",
       "\n",
       "    .dataframe tbody tr th {\n",
       "        vertical-align: top;\n",
       "    }\n",
       "\n",
       "    .dataframe thead th {\n",
       "        text-align: right;\n",
       "    }\n",
       "</style>\n",
       "<table border=\"1\" class=\"dataframe\">\n",
       "  <thead>\n",
       "    <tr style=\"text-align: right;\">\n",
       "      <th></th>\n",
       "      <th>age</th>\n",
       "      <th>sex</th>\n",
       "      <th>cp</th>\n",
       "      <th>trtbps</th>\n",
       "      <th>chol</th>\n",
       "      <th>fbs</th>\n",
       "      <th>restecg</th>\n",
       "      <th>thalachh</th>\n",
       "      <th>exng</th>\n",
       "      <th>oldpeak</th>\n",
       "      <th>slp</th>\n",
       "      <th>caa</th>\n",
       "      <th>thall</th>\n",
       "      <th>output</th>\n",
       "    </tr>\n",
       "  </thead>\n",
       "  <tbody>\n",
       "    <tr>\n",
       "      <th>count</th>\n",
       "      <td>303.000000</td>\n",
       "      <td>303.000000</td>\n",
       "      <td>303.000000</td>\n",
       "      <td>303.000000</td>\n",
       "      <td>303.000000</td>\n",
       "      <td>303.000000</td>\n",
       "      <td>303.000000</td>\n",
       "      <td>303.000000</td>\n",
       "      <td>303.000000</td>\n",
       "      <td>303.000000</td>\n",
       "      <td>303.000000</td>\n",
       "      <td>303.000000</td>\n",
       "      <td>303.000000</td>\n",
       "      <td>303.000000</td>\n",
       "    </tr>\n",
       "    <tr>\n",
       "      <th>mean</th>\n",
       "      <td>54.366337</td>\n",
       "      <td>0.683168</td>\n",
       "      <td>0.966997</td>\n",
       "      <td>131.623762</td>\n",
       "      <td>246.264026</td>\n",
       "      <td>0.148515</td>\n",
       "      <td>0.528053</td>\n",
       "      <td>149.646865</td>\n",
       "      <td>0.326733</td>\n",
       "      <td>1.039604</td>\n",
       "      <td>1.399340</td>\n",
       "      <td>0.729373</td>\n",
       "      <td>2.313531</td>\n",
       "      <td>0.544554</td>\n",
       "    </tr>\n",
       "    <tr>\n",
       "      <th>std</th>\n",
       "      <td>9.082101</td>\n",
       "      <td>0.466011</td>\n",
       "      <td>1.032052</td>\n",
       "      <td>17.538143</td>\n",
       "      <td>51.830751</td>\n",
       "      <td>0.356198</td>\n",
       "      <td>0.525860</td>\n",
       "      <td>22.905161</td>\n",
       "      <td>0.469794</td>\n",
       "      <td>1.161075</td>\n",
       "      <td>0.616226</td>\n",
       "      <td>1.022606</td>\n",
       "      <td>0.612277</td>\n",
       "      <td>0.498835</td>\n",
       "    </tr>\n",
       "    <tr>\n",
       "      <th>min</th>\n",
       "      <td>29.000000</td>\n",
       "      <td>0.000000</td>\n",
       "      <td>0.000000</td>\n",
       "      <td>94.000000</td>\n",
       "      <td>126.000000</td>\n",
       "      <td>0.000000</td>\n",
       "      <td>0.000000</td>\n",
       "      <td>71.000000</td>\n",
       "      <td>0.000000</td>\n",
       "      <td>0.000000</td>\n",
       "      <td>0.000000</td>\n",
       "      <td>0.000000</td>\n",
       "      <td>0.000000</td>\n",
       "      <td>0.000000</td>\n",
       "    </tr>\n",
       "    <tr>\n",
       "      <th>25%</th>\n",
       "      <td>47.500000</td>\n",
       "      <td>0.000000</td>\n",
       "      <td>0.000000</td>\n",
       "      <td>120.000000</td>\n",
       "      <td>211.000000</td>\n",
       "      <td>0.000000</td>\n",
       "      <td>0.000000</td>\n",
       "      <td>133.500000</td>\n",
       "      <td>0.000000</td>\n",
       "      <td>0.000000</td>\n",
       "      <td>1.000000</td>\n",
       "      <td>0.000000</td>\n",
       "      <td>2.000000</td>\n",
       "      <td>0.000000</td>\n",
       "    </tr>\n",
       "    <tr>\n",
       "      <th>50%</th>\n",
       "      <td>55.000000</td>\n",
       "      <td>1.000000</td>\n",
       "      <td>1.000000</td>\n",
       "      <td>130.000000</td>\n",
       "      <td>240.000000</td>\n",
       "      <td>0.000000</td>\n",
       "      <td>1.000000</td>\n",
       "      <td>153.000000</td>\n",
       "      <td>0.000000</td>\n",
       "      <td>0.800000</td>\n",
       "      <td>1.000000</td>\n",
       "      <td>0.000000</td>\n",
       "      <td>2.000000</td>\n",
       "      <td>1.000000</td>\n",
       "    </tr>\n",
       "    <tr>\n",
       "      <th>75%</th>\n",
       "      <td>61.000000</td>\n",
       "      <td>1.000000</td>\n",
       "      <td>2.000000</td>\n",
       "      <td>140.000000</td>\n",
       "      <td>274.500000</td>\n",
       "      <td>0.000000</td>\n",
       "      <td>1.000000</td>\n",
       "      <td>166.000000</td>\n",
       "      <td>1.000000</td>\n",
       "      <td>1.600000</td>\n",
       "      <td>2.000000</td>\n",
       "      <td>1.000000</td>\n",
       "      <td>3.000000</td>\n",
       "      <td>1.000000</td>\n",
       "    </tr>\n",
       "    <tr>\n",
       "      <th>max</th>\n",
       "      <td>77.000000</td>\n",
       "      <td>1.000000</td>\n",
       "      <td>3.000000</td>\n",
       "      <td>200.000000</td>\n",
       "      <td>564.000000</td>\n",
       "      <td>1.000000</td>\n",
       "      <td>2.000000</td>\n",
       "      <td>202.000000</td>\n",
       "      <td>1.000000</td>\n",
       "      <td>6.200000</td>\n",
       "      <td>2.000000</td>\n",
       "      <td>4.000000</td>\n",
       "      <td>3.000000</td>\n",
       "      <td>1.000000</td>\n",
       "    </tr>\n",
       "  </tbody>\n",
       "</table>\n",
       "</div>"
      ],
      "text/plain": [
       "              age         sex          cp      trtbps        chol         fbs  \\\n",
       "count  303.000000  303.000000  303.000000  303.000000  303.000000  303.000000   \n",
       "mean    54.366337    0.683168    0.966997  131.623762  246.264026    0.148515   \n",
       "std      9.082101    0.466011    1.032052   17.538143   51.830751    0.356198   \n",
       "min     29.000000    0.000000    0.000000   94.000000  126.000000    0.000000   \n",
       "25%     47.500000    0.000000    0.000000  120.000000  211.000000    0.000000   \n",
       "50%     55.000000    1.000000    1.000000  130.000000  240.000000    0.000000   \n",
       "75%     61.000000    1.000000    2.000000  140.000000  274.500000    0.000000   \n",
       "max     77.000000    1.000000    3.000000  200.000000  564.000000    1.000000   \n",
       "\n",
       "          restecg    thalachh        exng     oldpeak         slp         caa  \\\n",
       "count  303.000000  303.000000  303.000000  303.000000  303.000000  303.000000   \n",
       "mean     0.528053  149.646865    0.326733    1.039604    1.399340    0.729373   \n",
       "std      0.525860   22.905161    0.469794    1.161075    0.616226    1.022606   \n",
       "min      0.000000   71.000000    0.000000    0.000000    0.000000    0.000000   \n",
       "25%      0.000000  133.500000    0.000000    0.000000    1.000000    0.000000   \n",
       "50%      1.000000  153.000000    0.000000    0.800000    1.000000    0.000000   \n",
       "75%      1.000000  166.000000    1.000000    1.600000    2.000000    1.000000   \n",
       "max      2.000000  202.000000    1.000000    6.200000    2.000000    4.000000   \n",
       "\n",
       "            thall      output  \n",
       "count  303.000000  303.000000  \n",
       "mean     2.313531    0.544554  \n",
       "std      0.612277    0.498835  \n",
       "min      0.000000    0.000000  \n",
       "25%      2.000000    0.000000  \n",
       "50%      2.000000    1.000000  \n",
       "75%      3.000000    1.000000  \n",
       "max      3.000000    1.000000  "
      ]
     },
     "execution_count": 97,
     "metadata": {},
     "output_type": "execute_result"
    }
   ],
   "source": [
    "heart.describe()"
   ]
  },
  {
   "cell_type": "markdown",
   "metadata": {},
   "source": [
    "### Features (Some Need Revision)"
   ]
  },
  {
   "cell_type": "markdown",
   "metadata": {},
   "source": [
    "age\n",
    "\n",
    "sex\n",
    "\n",
    "chest pain type (4 values)\n",
    "\n",
    "resting blood pressure\n",
    "\n",
    "serum cholestoral in mg/dl\n",
    "\n",
    "fasting blood sugar > 120 mg/dl\n",
    "\n",
    "resting electrocardiographic results (values 0,1,2)\n",
    "\n",
    "maximum heart rate achieved\n",
    "\n",
    "exercise induced angina\n",
    "\n",
    "oldpeak = ST depression induced by exercise relative to rest\n",
    "\n",
    "the slope of the peak exercise ST segment\n",
    "\n",
    "number of major vessels (0-3) colored by flourosopy\n",
    "\n",
    "thal: 3 = normal; 6 = fixed defect; 7 = reversable defect\n",
    "\n",
    "The \"output\" field refers to the presence of heart disease in the patient. It is integer valued from 0 (no presence) to 1."
   ]
  },
  {
   "cell_type": "markdown",
   "metadata": {},
   "source": [
    "## 3 Histograms of Features"
   ]
  },
  {
   "cell_type": "code",
   "execution_count": 98,
   "metadata": {
    "scrolled": false
   },
   "outputs": [
    {
     "data": {
      "image/png": "[encoded data removed]",
      "text/plain": [
       "<Figure size 1800x3000 with 12 Axes>"
      ]
     },
     "metadata": {
      "needs_background": "light"
     },
     "output_type": "display_data"
    },
    {
     "data": {
      "image/png": "[encoded data removed]",
      "text/plain": [
       "<Figure size 312x328 with 1 Axes>"
      ]
     },
     "metadata": {
      "needs_background": "light"
     },
     "output_type": "display_data"
    }
   ],
   "source": [
    "features = [\"age\",\"sex\",\"cp\", \"trtbps\", \"chol\", \"fbs\", \n",
    "               \"restecg\", \"thalachh\", \"exng\",\n",
    "               \"oldpeak\", \"slp\", \"caa\", \"thall\"]\n",
    "nrow, ncol = 4, 3\n",
    "fig, axs = plt.subplots(nrow, ncol, figsize=(15,25), dpi = 120)\n",
    "for i in range(nrow):\n",
    "    for j in range(ncol):\n",
    "        feat = np.array(heart[features[i*ncol+j]])\n",
    "        axs[i][j].hist(feat,bins=10)\n",
    "        axs[i][j].title.set_text(features[i*ncol+j])\n",
    "        axs[i][j].set_xlabel(features[i*ncol+j])\n",
    "plt.figure(figsize=(3.9,4.1), dpi=80)\n",
    "feat = np.array(heart['thall'])\n",
    "plt.hist(feat,bins=10)\n",
    "plt.title('thall')\n",
    "plt.xlabel('thall')\n",
    "plt.show()"
   ]
  },
  {
   "cell_type": "markdown",
   "metadata": {},
   "source": [
    "## 4 Training and Testing"
   ]
  },
  {
   "cell_type": "markdown",
   "metadata": {},
   "source": [
    "### 4.1 Prepare Training and Test Set"
   ]
  },
  {
   "cell_type": "code",
   "execution_count": 99,
   "metadata": {
    "scrolled": false
   },
   "outputs": [
    {
     "name": "stdout",
     "output_type": "stream",
     "text": [
      "Training set fraction = 0.8\n",
      "Train size = 242\n",
      "Test size = 60\n"
     ]
    }
   ],
   "source": [
    "# We tried the following types of classification algorithms:\n",
    "# LogisticRegression, GaussianNB, SVC, KNeighborsClassifier, DecisionTreeClassifier\n",
    "# LogisticRegression has the best performance \n",
    "from sklearn.linear_model import LogisticRegression\n",
    "from sklearn.model_selection import train_test_split\n",
    "\n",
    "'''\n",
    "X = np.array(heart.drop(['output'],axis=1))\n",
    "y = np.array(heart['output'])\n",
    "'''\n",
    "X = heart.drop(['output'],axis=1)\n",
    "y = heart['output']\n",
    "\n",
    "trainsizefrac = 0.8\n",
    "trainsize = int(len(X)*trainsizefrac)\n",
    "testsize = int(len(X)-len(X)*trainsizefrac)\n",
    "\n",
    "randomstate = 137\n",
    "\n",
    "# Randomize and split the data into training set and test set\n",
    "X_train, X_test, y_train, y_test = train_test_split(X, y, train_size = trainsizefrac, random_state = randomstate)\n",
    "\n",
    "print('Training set fraction =', trainsizefrac)\n",
    "print(\"Train size =\", trainsize)\n",
    "print('Test size =', testsize)"
   ]
  },
  {
   "cell_type": "markdown",
   "metadata": {},
   "source": [
    "### 4.2 Selecting the Solver for the Classifier"
   ]
  },
  {
   "cell_type": "code",
   "execution_count": 100,
   "metadata": {
    "scrolled": true
   },
   "outputs": [
    {
     "name": "stdout",
     "output_type": "stream",
     "text": [
      "Method: newton-cg, Score: 0.8688524590163934\n",
      "Method: sag, Score: 0.8852459016393442\n",
      "Method: saga, Score: 0.8688524590163934\n",
      "Method: lbfgs, Score: 0.8688524590163934\n",
      "Method: liblinear, Score: 0.8688524590163934\n"
     ]
    }
   ],
   "source": [
    "clf = LogisticRegression()\n",
    "for sol in ['newton-cg', 'sag', 'saga', 'lbfgs', 'liblinear']:\n",
    "    clf = LogisticRegression(solver = sol, max_iter=7500)\n",
    "    clf.fit(X_train, y_train)\n",
    "    accuracy = clf.score(X_test, y_test)\n",
    "    print(\"Method:\", sol+\", Score:\", accuracy)"
   ]
  },
  {
   "cell_type": "markdown",
   "metadata": {},
   "source": [
    "Across multiple choices of the training set, the solver \"liblinear\" has better performance in most cases. Also, it generally works well for small sample size (from online sources)."
   ]
  },
  {
   "cell_type": "markdown",
   "metadata": {},
   "source": [
    "### 4.3 Train the Classifier"
   ]
  },
  {
   "cell_type": "code",
   "execution_count": 101,
   "metadata": {
    "scrolled": true
   },
   "outputs": [
    {
     "name": "stdout",
     "output_type": "stream",
     "text": [
      "Score: 0.8688524590163934\n"
     ]
    }
   ],
   "source": [
    "clf = LogisticRegression(solver = 'liblinear', max_iter=7500)\n",
    "clf.fit(X_train, y_train)\n",
    "accuracy = clf.score(X_test, y_test)\n",
    "print(\"Score:\", accuracy)"
   ]
  },
  {
   "cell_type": "markdown",
   "metadata": {},
   "source": [
    "# --------------------------------------------------------------------------------------"
   ]
  },
  {
   "cell_type": "markdown",
   "metadata": {},
   "source": [
    "## 5 All Possible Combinations of the Features\n",
    "#### [\"age\",\"sex\",\"cp\", \"trtbps\", \"chol\", \"fbs\",   \"restecg\", \"thalachh\", \"exng\", \"oldpeak\", \"slp\", \"caa\", \"thall\"]"
   ]
  },
  {
   "cell_type": "markdown",
   "metadata": {},
   "source": [
    "### 5.1 Find All Subsets of Features\n",
    "Sourcecode: https://stackoverflow.com/questions/1482308/how-to-get-all-subsets-of-a-set-powerset"
   ]
  },
  {
   "cell_type": "code",
   "execution_count": 102,
   "metadata": {},
   "outputs": [],
   "source": [
    "def list_powerset(lst):\n",
    "    # the power set of the empty set has one element, the empty set\n",
    "    result = [[]]\n",
    "    for x in lst:\n",
    "        # for every additional element in our set\n",
    "        # the power set consists of the subsets that don't\n",
    "        # contain this element (just take the previous power set)\n",
    "        # plus the subsets that do contain the element (use list\n",
    "        # comprehension to add [x] onto everything in the\n",
    "        # previous power set)\n",
    "        result.extend([subset + [x] for subset in result])\n",
    "    return result\n",
    "\n",
    "combf = list_powerset([\"age\",\"sex\",\"cp\", \"trtbps\", \"chol\", \"fbs\",\n",
    "                             \"restecg\", \"thalachh\", \"exng\", \"oldpeak\", \"slp\", \"caa\", \"thall\"])[:-1]"
   ]
  },
  {
   "cell_type": "markdown",
   "metadata": {},
   "source": [
    "### 5.2 Find All Subsets of Features"
   ]
  },
  {
   "cell_type": "code",
   "execution_count": 103,
   "metadata": {},
   "outputs": [
    {
     "name": "stdout",
     "output_type": "stream",
     "text": [
      "train size: 242 test size: 61\n",
      "0.9180327868852459\n"
     ]
    }
   ],
   "source": [
    "scores = []\n",
    "trainsize = int(0.8*303)\n",
    "print(\"train size:\", int(trainsize), \"test size:\", 303-int(trainsize))\n",
    "for comb in combf:\n",
    "    \n",
    "    clf = LogisticRegression(solver = 'liblinear', max_iter = 150)\n",
    "    \n",
    "    X = np.array(heart.drop(['output'] + comb,axis=1))\n",
    "    y = np.array(heart['output'])\n",
    "    X_train, X_test, y_train, y_test = train_test_split(X, y, train_size = trainsize, random_state = 137)\n",
    "\n",
    "    clf.fit(X_train, y_train)\n",
    "    \n",
    "    score = clf.score(X_test, y_test)\n",
    "    scores.append(score)\n",
    "maxscore = max(scores)\n",
    "print(maxscore)"
   ]
  },
  {
   "cell_type": "code",
   "execution_count": 104,
   "metadata": {},
   "outputs": [
    {
     "name": "stdout",
     "output_type": "stream",
     "text": [
      "11 combinations of features have the best scores: \n",
      "['exng', 'oldpeak', 'slp']\n",
      "['age', 'exng', 'oldpeak', 'slp']\n",
      "['cp', 'trtbps', 'exng', 'oldpeak', 'slp']\n",
      "['age', 'cp', 'trtbps', 'exng', 'oldpeak', 'slp']\n",
      "['age', 'sex', 'cp', 'trtbps', 'chol', 'exng', 'oldpeak', 'slp']\n",
      "['fbs', 'exng', 'oldpeak', 'slp']\n",
      "['cp', 'trtbps', 'fbs', 'exng', 'oldpeak', 'slp']\n",
      "['age', 'cp', 'trtbps', 'fbs', 'exng', 'oldpeak', 'slp']\n",
      "['age', 'sex', 'cp', 'trtbps', 'chol', 'fbs', 'exng', 'oldpeak', 'slp']\n",
      "['sex', 'cp', 'restecg', 'exng', 'oldpeak', 'slp']\n",
      "['sex', 'cp', 'fbs', 'restecg', 'exng', 'oldpeak', 'slp']\n"
     ]
    }
   ],
   "source": [
    "indices = [i for i, x in enumerate(scores) if x == maxscore]\n",
    "\n",
    "print(len(indices), \"combinations of features have the best scores: \")\n",
    "\n",
    "bestcombf = []\n",
    "for ind in indices:\n",
    "    bestcombf.append(combf[ind])\n",
    "\n",
    "for eachline in bestcombf:\n",
    "    print(eachline)\n",
    "\n",
    "counts = [0]*13\n",
    "for i in range(13):\n",
    "    feature = features[i]\n",
    "    for f in bestcombf:\n",
    "        if feature in f:\n",
    "            counts[i] += 1\n",
    "#print(counts)"
   ]
  },
  {
   "cell_type": "markdown",
   "metadata": {},
   "source": [
    "## 6 Correlations"
   ]
  },
  {
   "cell_type": "markdown",
   "metadata": {},
   "source": [
    "### 6.1 Correlations between Continuous Variables"
   ]
  },
  {
   "cell_type": "code",
   "execution_count": 105,
   "metadata": {},
   "outputs": [],
   "source": [
    "X = heart.drop([\"sex\",\"cp\", \"fbs\", \"restecg\", \"exng\", \"slp\", \"caa\", \"thall\",'output'],axis=1)\n",
    "y = heart['output']\n",
    "X_train, X_test, y_train, y_test = train_test_split(X, y, train_size = 0.8, random_state = 137)"
   ]
  },
  {
   "cell_type": "code",
   "execution_count": 106,
   "metadata": {
    "scrolled": false
   },
   "outputs": [
    {
     "name": "stdout",
     "output_type": "stream",
     "text": [
      "Pearson method: \n",
      "                age    trtbps      chol  thalachh   oldpeak\n",
      "age       1.000000  0.257463  0.237468 -0.393936  0.198642\n",
      "trtbps    0.257463  1.000000  0.162377 -0.012969  0.201888\n",
      "chol      0.237468  0.162377  1.000000 -0.046850  0.086269\n",
      "thalachh -0.393936 -0.012969 -0.046850  1.000000 -0.322760\n",
      "oldpeak   0.198642  0.201888  0.086269 -0.322760  1.000000\n",
      "\n",
      "\n",
      "Kendall method: \n",
      "                age    trtbps      chol  thalachh   oldpeak\n",
      "age       1.000000  0.181492  0.156926 -0.267010  0.186453\n",
      "trtbps    0.181492  1.000000  0.098777  0.009633  0.115168\n",
      "chol      0.156926  0.098777  1.000000 -0.048503  0.048346\n",
      "thalachh -0.267010  0.009633 -0.048503  1.000000 -0.286392\n",
      "oldpeak   0.186453  0.115168  0.048346 -0.286392  1.000000\n",
      "\n",
      "\n",
      "Spearman method: \n",
      "                age    trtbps      chol  thalachh   oldpeak\n",
      "age       1.000000  0.256562  0.227500 -0.378522  0.260404\n",
      "trtbps    0.256562  1.000000  0.143611  0.013983  0.160958\n",
      "chol      0.227500  0.143611  1.000000 -0.071976  0.061961\n",
      "thalachh -0.378522  0.013983 -0.071976  1.000000 -0.406385\n",
      "oldpeak   0.260404  0.160958  0.061961 -0.406385  1.000000\n"
     ]
    }
   ],
   "source": [
    "corrP = X_train.corr(method ='pearson')\n",
    "print(\"Pearson method: \\n\", corrP)\n",
    "corrK = X_train.corr(method ='kendall')\n",
    "print(\"\\n\\nKendall method: \\n\", corrK)\n",
    "corrS = X_train.corr(method ='spearman')\n",
    "print(\"\\n\\nSpearman method: \\n\", corrS)"
   ]
  },
  {
   "cell_type": "code",
   "execution_count": 107,
   "metadata": {},
   "outputs": [
    {
     "name": "stdout",
     "output_type": "stream",
     "text": [
      "Maximum Correlation using Pearson Method: Corr(age,thalachh) =  -0.3939361729822804\n"
     ]
    }
   ],
   "source": [
    "tempcorrP = np.array(corrP)\n",
    "tempcorrP = np.abs(tempcorrP)\n",
    "for i in range(len(tempcorrP)):\n",
    "    tempcorrP[i][i] -= 1\n",
    "maxcorrP = np.amax(tempcorrP)\n",
    "maxpos = np.where(tempcorrP == maxcorrP)\n",
    "maxcorrP = np.array(corrP)[maxpos[0][0]][maxpos[0][1]]\n",
    "print(\"Maximum Correlation using Pearson Method: Corr(\" + corrP.columns[maxpos[0][0]]+\",\"+corrP.columns[maxpos[0][1]]+\") = \", maxcorrP)"
   ]
  },
  {
   "cell_type": "code",
   "execution_count": 108,
   "metadata": {},
   "outputs": [
    {
     "name": "stdout",
     "output_type": "stream",
     "text": [
      "Maximum Correlation using Kendal Method: Corr(thalachh,oldpeak) =  -0.28639210484788125\n"
     ]
    }
   ],
   "source": [
    "tempcorrK = np.array(corrK)\n",
    "tempcorrK = np.abs(tempcorrK)\n",
    "for i in range(len(tempcorrK)):\n",
    "    tempcorrK[i][i] -= 1\n",
    "maxcorrK = np.amax(tempcorrK)\n",
    "maxpos = np.where(tempcorrK == maxcorrK)\n",
    "maxcorrK = np.array(corrK)[maxpos[0][0]][maxpos[0][1]]\n",
    "print(\"Maximum Correlation using Kendal Method: Corr(\" + corrK.columns[maxpos[0][0]]+\",\"+corrK.columns[maxpos[0][1]]+\") = \", maxcorrK)"
   ]
  },
  {
   "cell_type": "code",
   "execution_count": 109,
   "metadata": {},
   "outputs": [
    {
     "name": "stdout",
     "output_type": "stream",
     "text": [
      "Maximum Correlation using Spearman Method: Corr(thalachh,oldpeak) =  -0.4063852290262676\n"
     ]
    }
   ],
   "source": [
    "tempcorrS = np.array(corrS)\n",
    "tempcorrS = np.abs(tempcorrS)\n",
    "for i in range(len(tempcorrS)):\n",
    "    tempcorrS[i][i] -= 1\n",
    "maxcorrS = np.amax(tempcorrS)\n",
    "maxpos = np.where(tempcorrS == maxcorrS)\n",
    "maxcorrS = np.array(corrS)[maxpos[0][0]][maxpos[0][1]]\n",
    "print(\"Maximum Correlation using Spearman Method: Corr(\" + corrS.columns[maxpos[0][0]]+\",\"+corrS.columns[maxpos[0][1]]+\") = \", maxcorrS)"
   ]
  },
  {
   "cell_type": "markdown",
   "metadata": {},
   "source": [
    "The meaning of \"perfect\" depends on which measure of correlation is used: \n",
    "\n",
    "For Pearson correlation it means the points on a scatter plot lie right on a straight line (sloped upwards for +1 and downwards for -1).\n",
    "\n",
    "For Spearman correlation that the ranks exactly agree (or exactly disagree, so first is paired with last, for -1).\n",
    "\n",
    "For Kendall's tau that all pairs of observations have concordant ranks (or discordant for -1). \n",
    "\n",
    "Source: https://stats.stackexchange.com/questions/119835/correlation-between-a-nominal-iv-and-a-continuous-dv-variable"
   ]
  },
  {
   "cell_type": "markdown",
   "metadata": {},
   "source": [
    "### 6.2 Correlations between All Variables"
   ]
  },
  {
   "cell_type": "code",
   "execution_count": 110,
   "metadata": {},
   "outputs": [],
   "source": [
    "X = heart.drop(['output'],axis=1)\n",
    "y = heart['output']\n",
    "X_train, X_test, y_train, y_test = train_test_split(X, y, train_size = 0.8, random_state = 137)"
   ]
  },
  {
   "cell_type": "code",
   "execution_count": 111,
   "metadata": {
    "scrolled": false
   },
   "outputs": [
    {
     "name": "stdout",
     "output_type": "stream",
     "text": [
      "Pearson method: \n",
      "                age       sex        cp    trtbps      chol       fbs  \\\n",
      "age       1.000000 -0.130138 -0.036067  0.257463  0.237468  0.146678   \n",
      "sex      -0.130138  1.000000 -0.000946 -0.042576 -0.168141  0.066838   \n",
      "cp       -0.036067 -0.000946  1.000000  0.044392 -0.123224  0.089720   \n",
      "trtbps    0.257463 -0.042576  0.044392  1.000000  0.162377  0.189599   \n",
      "chol      0.237468 -0.168141 -0.123224  0.162377  1.000000  0.002577   \n",
      "fbs       0.146678  0.066838  0.089720  0.189599  0.002577  1.000000   \n",
      "restecg  -0.110380 -0.112346  0.095054 -0.139284 -0.113983 -0.076614   \n",
      "thalachh -0.393936 -0.003210  0.271884 -0.012969 -0.046850  0.011976   \n",
      "exng      0.090051  0.119566 -0.379793  0.085550  0.081456 -0.001373   \n",
      "oldpeak   0.198642  0.118567 -0.078190  0.201888  0.086269 -0.022145   \n",
      "slp      -0.122351 -0.001889  0.100899 -0.120720 -0.060172 -0.048839   \n",
      "caa       0.251379  0.100779 -0.170898  0.065599  0.154947  0.179893   \n",
      "thall     0.019608  0.224369 -0.120329  0.066084  0.088429 -0.037290   \n",
      "\n",
      "           restecg  thalachh      exng   oldpeak       slp       caa     thall  \n",
      "age      -0.110380 -0.393936  0.090051  0.198642 -0.122351  0.251379  0.019608  \n",
      "sex      -0.112346 -0.003210  0.119566  0.118567 -0.001889  0.100779  0.224369  \n",
      "cp        0.095054  0.271884 -0.379793 -0.078190  0.100899 -0.170898 -0.120329  \n",
      "trtbps   -0.139284 -0.012969  0.085550  0.201888 -0.120720  0.065599  0.066084  \n",
      "chol     -0.113983 -0.046850  0.081456  0.086269 -0.060172  0.154947  0.088429  \n",
      "fbs      -0.076614  0.011976 -0.001373 -0.022145 -0.048839  0.179893 -0.037290  \n",
      "restecg   1.000000  0.069122 -0.112383 -0.035128  0.095855 -0.070151  0.002989  \n",
      "thalachh  0.069122  1.000000 -0.381665 -0.322760  0.386597 -0.169763 -0.058151  \n",
      "exng     -0.112383 -0.381665  1.000000  0.289999 -0.300798  0.100725  0.218337  \n",
      "oldpeak  -0.035128 -0.322760  0.289999  1.000000 -0.584045  0.199572  0.164899  \n",
      "slp       0.095855  0.386597 -0.300798 -0.584045  1.000000 -0.043784 -0.109475  \n",
      "caa      -0.070151 -0.169763  0.100725  0.199572 -0.043784  1.000000  0.136584  \n",
      "thall     0.002989 -0.058151  0.218337  0.164899 -0.109475  0.136584  1.000000  \n",
      "\n",
      "\n",
      "\n",
      "Kendall method: \n",
      "                age       sex        cp    trtbps      chol       fbs  \\\n",
      "age       1.000000 -0.102695 -0.053396  0.181492  0.156926  0.116288   \n",
      "sex      -0.102695  1.000000 -0.012346 -0.027527 -0.101970  0.066838   \n",
      "cp       -0.053396 -0.012346  1.000000  0.031205 -0.095663  0.078789   \n",
      "trtbps    0.181492 -0.027527  0.031205  1.000000  0.098777  0.132089   \n",
      "chol      0.156926 -0.101970 -0.095663  0.098777  1.000000  0.002222   \n",
      "fbs       0.116288  0.066838  0.078789  0.132089  0.002222  1.000000   \n",
      "restecg  -0.106862 -0.100454  0.109774 -0.133588 -0.113097 -0.072071   \n",
      "thalachh -0.267010  0.003959  0.237241  0.009633 -0.048503  0.010426   \n",
      "exng      0.074080  0.119566 -0.384046  0.049420  0.070908 -0.001373   \n",
      "oldpeak   0.186453  0.098120 -0.072713  0.115168  0.048346 -0.002282   \n",
      "slp      -0.113816  0.004595  0.139936 -0.064727 -0.065423 -0.034663   \n",
      "caa       0.254038  0.092708 -0.180202  0.042095  0.137814  0.159198   \n",
      "thall     0.027556  0.255154 -0.150810  0.051046  0.063924 -0.002902   \n",
      "\n",
      "           restecg  thalachh      exng   oldpeak       slp       caa     thall  \n",
      "age      -0.106862 -0.267010  0.074080  0.186453 -0.113816  0.254038  0.027556  \n",
      "sex      -0.100454  0.003959  0.119566  0.098120  0.004595  0.092708  0.255154  \n",
      "cp        0.109774  0.237241 -0.384046 -0.072713  0.139936 -0.180202 -0.150810  \n",
      "trtbps   -0.133588  0.009633  0.049420  0.115168 -0.064727  0.042095  0.051046  \n",
      "chol     -0.113097 -0.048503  0.070908  0.048346 -0.065423  0.137814  0.063924  \n",
      "fbs      -0.072071  0.010426 -0.001373 -0.002282 -0.034663  0.159198 -0.002902  \n",
      "restecg   1.000000  0.094268 -0.120994 -0.063400  0.114113 -0.089417  0.003409  \n",
      "thalachh  0.094268  1.000000 -0.342990 -0.286392  0.352857 -0.162361 -0.091037  \n",
      "exng     -0.120994 -0.342990  1.000000  0.251253 -0.308554  0.137677  0.257784  \n",
      "oldpeak  -0.063400 -0.286392  0.251253  1.000000 -0.519047  0.184068  0.175526  \n",
      "slp       0.114113  0.352857 -0.308554 -0.519047  1.000000 -0.051487 -0.156751  \n",
      "caa      -0.089417 -0.162361  0.137677  0.184068 -0.051487  1.000000  0.149519  \n",
      "thall     0.003409 -0.091037  0.257784  0.175526 -0.156751  0.149519  1.000000  \n",
      "\n",
      "\n",
      "\n",
      "Spearman method: \n",
      "                age       sex        cp    trtbps      chol       fbs  \\\n",
      "age       1.000000 -0.123640 -0.065464  0.256562  0.227500  0.140004   \n",
      "sex      -0.123640  1.000000 -0.013221 -0.032766 -0.124268  0.066838   \n",
      "cp       -0.065464 -0.013221  1.000000  0.039064 -0.127648  0.084375   \n",
      "trtbps    0.256562 -0.032766  0.039064  1.000000  0.143611  0.157226   \n",
      "chol      0.227500 -0.124268 -0.127648  0.143611  1.000000  0.002707   \n",
      "fbs       0.140004  0.066838  0.084375  0.157226  0.002707  1.000000   \n",
      "restecg  -0.130048 -0.101241  0.118451 -0.159867 -0.137740 -0.072636   \n",
      "thalachh -0.378522  0.004808  0.314144  0.013983 -0.071976  0.012662   \n",
      "exng      0.089189  0.119566 -0.411274  0.058825  0.086414 -0.001373   \n",
      "oldpeak   0.260404  0.114723 -0.095636  0.160958  0.061961 -0.002669   \n",
      "slp      -0.141807  0.004724  0.152381 -0.079518 -0.082317 -0.035637   \n",
      "caa       0.321513  0.098859 -0.206651  0.054092  0.175449  0.169761   \n",
      "thall     0.031900  0.261813 -0.165277  0.061841  0.080715 -0.002977   \n",
      "\n",
      "           restecg  thalachh      exng   oldpeak       slp       caa     thall  \n",
      "age      -0.130048 -0.378522  0.089189  0.260404 -0.141807  0.321513  0.031900  \n",
      "sex      -0.101241  0.004808  0.119566  0.114723  0.004724  0.098859  0.261813  \n",
      "cp        0.118451  0.314144 -0.411274 -0.095636  0.152381 -0.206651 -0.165277  \n",
      "trtbps   -0.159867  0.013983  0.058825  0.160958 -0.079518  0.054092  0.061841  \n",
      "chol     -0.137740 -0.071976  0.086414  0.061961 -0.082317  0.175449  0.080715  \n",
      "fbs      -0.072636  0.012662 -0.001373 -0.002669 -0.035637  0.169761 -0.002977  \n",
      "restecg   1.000000  0.114676 -0.121942 -0.074034  0.118086 -0.095898  0.003624  \n",
      "thalachh  0.114676  1.000000 -0.416542 -0.406385  0.439913 -0.211644 -0.113227  \n",
      "exng     -0.121942 -0.416542  1.000000  0.293768 -0.317229  0.146812  0.264512  \n",
      "oldpeak  -0.074034 -0.406385  0.293768  1.000000 -0.609137  0.227545  0.210472  \n",
      "slp       0.118086  0.439913 -0.317229 -0.609137  1.000000 -0.056056 -0.163835  \n",
      "caa      -0.095898 -0.211644  0.146812  0.227545 -0.056056  1.000000  0.163323  \n",
      "thall     0.003624 -0.113227  0.264512  0.210472 -0.163835  0.163323  1.000000  \n"
     ]
    }
   ],
   "source": [
    "corrP = X_train.corr(method ='pearson')\n",
    "print(\"Pearson method: \\n\", corrP)\n",
    "corrK = X_train.corr(method ='kendall')\n",
    "print(\"\\n\\n\\nKendall method: \\n\", corrK)\n",
    "corrS = X_train.corr(method ='spearman')\n",
    "print(\"\\n\\n\\nSpearman method: \\n\", corrS)"
   ]
  },
  {
   "cell_type": "markdown",
   "metadata": {},
   "source": [
    "## -------------------------------------------------- Below Not Important-----------------------------------------------------"
   ]
  },
  {
   "cell_type": "markdown",
   "metadata": {},
   "source": [
    "#### Confirming score = fraction of correct predictions and test predict()"
   ]
  },
  {
   "cell_type": "code",
   "execution_count": 113,
   "metadata": {
    "scrolled": false
   },
   "outputs": [
    {
     "name": "stdout",
     "output_type": "stream",
     "text": [
      "0.8688524590163934\n",
      "0.8688524590163934\n"
     ]
    }
   ],
   "source": [
    "X = np.array(heart.drop(['output'],axis=1))\n",
    "y = np.array(heart['output'])\n",
    "X_train, X_test, y_train, y_test = train_test_split(X, y, train_size = trainsize, random_state = 137)\n",
    "\n",
    "clf.fit(X_train, y_train)\n",
    "\n",
    "n_correct = 0\n",
    "for i in range(len(X_test)):\n",
    "    if  max(clf.predict_proba(X_test)[i,0],clf.predict_proba(X_test)[i,1]) == clf.predict_proba(X_test)[i,0]:\n",
    "        thispred = 0\n",
    "    else:\n",
    "        thispred = 1\n",
    "    if thispred == y_test[i]:\n",
    "        n_correct += 1\n",
    "print(n_correct/len(X_test))\n",
    "\n",
    "n_correct = 0\n",
    "for i in range(len(X_test)):\n",
    "    if  clf.predict(X_test)[i] == y_test[i]:\n",
    "        n_correct += 1\n",
    "print(n_correct/len(X_test))"
   ]
  },
  {
   "cell_type": "code",
   "execution_count": null,
   "metadata": {},
   "outputs": [],
   "source": []
  }
 ],
 "metadata": {
  "kernelspec": {
   "display_name": "Python 3",
   "language": "python",
   "name": "python3"
  },
  "language_info": {
   "codemirror_mode": {
    "name": "ipython",
    "version": 3
   },
   "file_extension": ".py",
   "mimetype": "text/x-python",
   "name": "python",
   "nbconvert_exporter": "python",
   "pygments_lexer": "ipython3",
   "version": "3.7.3"
  }
 },
 "nbformat": 4,
 "nbformat_minor": 2
}
