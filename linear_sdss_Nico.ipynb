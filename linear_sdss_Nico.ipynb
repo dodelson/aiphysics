{
 "cells": [
  {
   "cell_type": "code",
   "execution_count": 1,
   "metadata": {},
   "outputs": [],
   "source": [
    "import pandas as pd\n",
    "import matplotlib.pyplot as plt\n",
    "import numpy as np"
   ]
  },
  {
   "cell_type": "code",
   "execution_count": 2,
   "metadata": {},
   "outputs": [],
   "source": [
    "#From\n",
    "#https://www.kaggle.com/lucidlenn/sloan-digital-sky-survey\n",
    "sdss=pd.read_csv('/Users/Nico/Documents/AI Seminar/aiphysics/Skyserver_SQL2_27_2018 6_51_39 PM.csv')"
   ]
  },
  {
   "cell_type": "code",
   "execution_count": 3,
   "metadata": {},
   "outputs": [
    {
     "name": "stdout",
     "output_type": "stream",
     "text": [
      "<class 'pandas.core.frame.DataFrame'>\n",
      "RangeIndex: 10000 entries, 0 to 9999\n",
      "Data columns (total 18 columns):\n",
      " #   Column     Non-Null Count  Dtype  \n",
      "---  ------     --------------  -----  \n",
      " 0   objid      10000 non-null  float64\n",
      " 1   ra         10000 non-null  float64\n",
      " 2   dec        10000 non-null  float64\n",
      " 3   u          10000 non-null  float64\n",
      " 4   g          10000 non-null  float64\n",
      " 5   r          10000 non-null  float64\n",
      " 6   i          10000 non-null  float64\n",
      " 7   z          10000 non-null  float64\n",
      " 8   run        10000 non-null  int64  \n",
      " 9   rerun      10000 non-null  int64  \n",
      " 10  camcol     10000 non-null  int64  \n",
      " 11  field      10000 non-null  int64  \n",
      " 12  specobjid  10000 non-null  float64\n",
      " 13  class      10000 non-null  object \n",
      " 14  redshift   10000 non-null  float64\n",
      " 15  plate      10000 non-null  int64  \n",
      " 16  mjd        10000 non-null  int64  \n",
      " 17  fiberid    10000 non-null  int64  \n",
      "dtypes: float64(10), int64(7), object(1)\n",
      "memory usage: 1.4+ MB\n"
     ]
    }
   ],
   "source": [
    "sdss.info()"
   ]
  },
  {
   "cell_type": "code",
   "execution_count": 4,
   "metadata": {},
   "outputs": [
    {
     "name": "stdout",
     "output_type": "stream",
     "text": [
      "<class 'pandas.core.frame.DataFrame'>\n",
      "Int64Index: 4152 entries, 0 to 9997\n",
      "Data columns (total 18 columns):\n",
      " #   Column     Non-Null Count  Dtype  \n",
      "---  ------     --------------  -----  \n",
      " 0   objid      4152 non-null   float64\n",
      " 1   ra         4152 non-null   float64\n",
      " 2   dec        4152 non-null   float64\n",
      " 3   u          4152 non-null   float64\n",
      " 4   g          4152 non-null   float64\n",
      " 5   r          4152 non-null   float64\n",
      " 6   i          4152 non-null   float64\n",
      " 7   z          4152 non-null   float64\n",
      " 8   run        4152 non-null   int64  \n",
      " 9   rerun      4152 non-null   int64  \n",
      " 10  camcol     4152 non-null   int64  \n",
      " 11  field      4152 non-null   int64  \n",
      " 12  specobjid  4152 non-null   float64\n",
      " 13  class      4152 non-null   int32  \n",
      " 14  redshift   4152 non-null   float64\n",
      " 15  plate      4152 non-null   int64  \n",
      " 16  mjd        4152 non-null   int64  \n",
      " 17  fiberid    4152 non-null   int64  \n",
      "dtypes: float64(10), int32(1), int64(7)\n",
      "memory usage: 600.1 KB\n"
     ]
    }
   ],
   "source": [
    "## Convert class column to integer\n",
    "sdss[\"class\"]=np.where(sdss[\"class\"]=='QSO','2',sdss[\"class\"])#.astype(int)\n",
    "sdss[\"class\"]=np.where(sdss[\"class\"]=='STAR','0',sdss[\"class\"])#.astype(int)\n",
    "sdss[\"class\"]=np.where(sdss[\"class\"]=='GALAXY','1',sdss[\"class\"])#.astype(int)\n",
    "sdssc=sdss.astype({'class':int})\n",
    "\n",
    "#Filter out anything that is not a star\n",
    "starsOnly = sdssc[sdssc[\"class\"]==0]\n",
    "starsOnly.info()"
   ]
  },
  {
   "cell_type": "code",
   "execution_count": 5,
   "metadata": {},
   "outputs": [
    {
     "data": {
      "text/html": [
       "<div>\n",
       "<style scoped>\n",
       "    .dataframe tbody tr th:only-of-type {\n",
       "        vertical-align: middle;\n",
       "    }\n",
       "\n",
       "    .dataframe tbody tr th {\n",
       "        vertical-align: top;\n",
       "    }\n",
       "\n",
       "    .dataframe thead th {\n",
       "        text-align: right;\n",
       "    }\n",
       "</style>\n",
       "<table border=\"1\" class=\"dataframe\">\n",
       "  <thead>\n",
       "    <tr style=\"text-align: right;\">\n",
       "      <th></th>\n",
       "      <th>objid</th>\n",
       "      <th>ra</th>\n",
       "      <th>dec</th>\n",
       "      <th>u</th>\n",
       "      <th>g</th>\n",
       "      <th>r</th>\n",
       "      <th>i</th>\n",
       "      <th>z</th>\n",
       "      <th>run</th>\n",
       "      <th>rerun</th>\n",
       "      <th>camcol</th>\n",
       "      <th>field</th>\n",
       "      <th>specobjid</th>\n",
       "      <th>class</th>\n",
       "      <th>redshift</th>\n",
       "      <th>plate</th>\n",
       "      <th>mjd</th>\n",
       "      <th>fiberid</th>\n",
       "    </tr>\n",
       "  </thead>\n",
       "  <tbody>\n",
       "    <tr>\n",
       "      <th>count</th>\n",
       "      <td>4.152000e+03</td>\n",
       "      <td>4152.000000</td>\n",
       "      <td>4152.000000</td>\n",
       "      <td>4152.000000</td>\n",
       "      <td>4152.000000</td>\n",
       "      <td>4152.000000</td>\n",
       "      <td>4152.000000</td>\n",
       "      <td>4152.000000</td>\n",
       "      <td>4152.000000</td>\n",
       "      <td>4152.0</td>\n",
       "      <td>4152.000000</td>\n",
       "      <td>4152.000000</td>\n",
       "      <td>4.152000e+03</td>\n",
       "      <td>4152.0</td>\n",
       "      <td>4152.000000</td>\n",
       "      <td>4152.000000</td>\n",
       "      <td>4152.000000</td>\n",
       "      <td>4152.000000</td>\n",
       "    </tr>\n",
       "    <tr>\n",
       "      <th>mean</th>\n",
       "      <td>1.237650e+18</td>\n",
       "      <td>172.962158</td>\n",
       "      <td>12.544824</td>\n",
       "      <td>18.330439</td>\n",
       "      <td>17.130547</td>\n",
       "      <td>16.732093</td>\n",
       "      <td>16.594047</td>\n",
       "      <td>16.531119</td>\n",
       "      <td>950.886561</td>\n",
       "      <td>301.0</td>\n",
       "      <td>3.632225</td>\n",
       "      <td>303.552264</td>\n",
       "      <td>3.018202e+18</td>\n",
       "      <td>0.0</td>\n",
       "      <td>0.000043</td>\n",
       "      <td>2680.613198</td>\n",
       "      <td>54093.892823</td>\n",
       "      <td>362.838391</td>\n",
       "    </tr>\n",
       "    <tr>\n",
       "      <th>std</th>\n",
       "      <td>9.165904e+04</td>\n",
       "      <td>48.998648</td>\n",
       "      <td>23.756274</td>\n",
       "      <td>0.929816</td>\n",
       "      <td>0.988460</td>\n",
       "      <td>1.080897</td>\n",
       "      <td>1.152151</td>\n",
       "      <td>1.171915</td>\n",
       "      <td>268.178008</td>\n",
       "      <td>0.0</td>\n",
       "      <td>1.647977</td>\n",
       "      <td>158.708037</td>\n",
       "      <td>2.132595e+18</td>\n",
       "      <td>0.0</td>\n",
       "      <td>0.000410</td>\n",
       "      <td>1894.109205</td>\n",
       "      <td>1475.534114</td>\n",
       "      <td>225.632919</td>\n",
       "    </tr>\n",
       "    <tr>\n",
       "      <th>min</th>\n",
       "      <td>1.237650e+18</td>\n",
       "      <td>8.235100</td>\n",
       "      <td>-5.382632</td>\n",
       "      <td>12.988970</td>\n",
       "      <td>12.799550</td>\n",
       "      <td>12.482380</td>\n",
       "      <td>13.247230</td>\n",
       "      <td>12.607180</td>\n",
       "      <td>308.000000</td>\n",
       "      <td>301.0</td>\n",
       "      <td>1.000000</td>\n",
       "      <td>11.000000</td>\n",
       "      <td>2.995850e+17</td>\n",
       "      <td>0.0</td>\n",
       "      <td>-0.004136</td>\n",
       "      <td>266.000000</td>\n",
       "      <td>51608.000000</td>\n",
       "      <td>1.000000</td>\n",
       "    </tr>\n",
       "    <tr>\n",
       "      <th>25%</th>\n",
       "      <td>1.237650e+18</td>\n",
       "      <td>161.105799</td>\n",
       "      <td>-0.533353</td>\n",
       "      <td>17.707375</td>\n",
       "      <td>16.459987</td>\n",
       "      <td>15.987657</td>\n",
       "      <td>15.813655</td>\n",
       "      <td>15.723000</td>\n",
       "      <td>752.000000</td>\n",
       "      <td>301.0</td>\n",
       "      <td>2.000000</td>\n",
       "      <td>207.000000</td>\n",
       "      <td>1.040458e+18</td>\n",
       "      <td>0.0</td>\n",
       "      <td>-0.000133</td>\n",
       "      <td>924.000000</td>\n",
       "      <td>53003.000000</td>\n",
       "      <td>179.000000</td>\n",
       "    </tr>\n",
       "    <tr>\n",
       "      <th>50%</th>\n",
       "      <td>1.237650e+18</td>\n",
       "      <td>182.280508</td>\n",
       "      <td>0.285323</td>\n",
       "      <td>18.500935</td>\n",
       "      <td>17.237445</td>\n",
       "      <td>16.788435</td>\n",
       "      <td>16.621145</td>\n",
       "      <td>16.548885</td>\n",
       "      <td>756.000000</td>\n",
       "      <td>301.0</td>\n",
       "      <td>4.000000</td>\n",
       "      <td>303.000000</td>\n",
       "      <td>3.211180e+18</td>\n",
       "      <td>0.0</td>\n",
       "      <td>0.000024</td>\n",
       "      <td>2852.000000</td>\n",
       "      <td>54471.000000</td>\n",
       "      <td>351.000000</td>\n",
       "    </tr>\n",
       "    <tr>\n",
       "      <th>75%</th>\n",
       "      <td>1.237650e+18</td>\n",
       "      <td>199.206098</td>\n",
       "      <td>13.189393</td>\n",
       "      <td>19.105045</td>\n",
       "      <td>17.901390</td>\n",
       "      <td>17.520347</td>\n",
       "      <td>17.396130</td>\n",
       "      <td>17.333417</td>\n",
       "      <td>1302.000000</td>\n",
       "      <td>301.0</td>\n",
       "      <td>5.000000</td>\n",
       "      <td>412.000000</td>\n",
       "      <td>3.640140e+18</td>\n",
       "      <td>0.0</td>\n",
       "      <td>0.000218</td>\n",
       "      <td>3233.000000</td>\n",
       "      <td>54891.000000</td>\n",
       "      <td>526.250000</td>\n",
       "    </tr>\n",
       "    <tr>\n",
       "      <th>max</th>\n",
       "      <td>1.237650e+18</td>\n",
       "      <td>260.884382</td>\n",
       "      <td>68.532007</td>\n",
       "      <td>19.599340</td>\n",
       "      <td>19.918970</td>\n",
       "      <td>24.802030</td>\n",
       "      <td>28.179630</td>\n",
       "      <td>20.796100</td>\n",
       "      <td>1412.000000</td>\n",
       "      <td>301.0</td>\n",
       "      <td>6.000000</td>\n",
       "      <td>768.000000</td>\n",
       "      <td>9.468830e+18</td>\n",
       "      <td>0.0</td>\n",
       "      <td>0.004563</td>\n",
       "      <td>8410.000000</td>\n",
       "      <td>57481.000000</td>\n",
       "      <td>1000.000000</td>\n",
       "    </tr>\n",
       "  </tbody>\n",
       "</table>\n",
       "</div>"
      ],
      "text/plain": [
       "              objid           ra          dec            u            g  \\\n",
       "count  4.152000e+03  4152.000000  4152.000000  4152.000000  4152.000000   \n",
       "mean   1.237650e+18   172.962158    12.544824    18.330439    17.130547   \n",
       "std    9.165904e+04    48.998648    23.756274     0.929816     0.988460   \n",
       "min    1.237650e+18     8.235100    -5.382632    12.988970    12.799550   \n",
       "25%    1.237650e+18   161.105799    -0.533353    17.707375    16.459987   \n",
       "50%    1.237650e+18   182.280508     0.285323    18.500935    17.237445   \n",
       "75%    1.237650e+18   199.206098    13.189393    19.105045    17.901390   \n",
       "max    1.237650e+18   260.884382    68.532007    19.599340    19.918970   \n",
       "\n",
       "                 r            i            z          run   rerun  \\\n",
       "count  4152.000000  4152.000000  4152.000000  4152.000000  4152.0   \n",
       "mean     16.732093    16.594047    16.531119   950.886561   301.0   \n",
       "std       1.080897     1.152151     1.171915   268.178008     0.0   \n",
       "min      12.482380    13.247230    12.607180   308.000000   301.0   \n",
       "25%      15.987657    15.813655    15.723000   752.000000   301.0   \n",
       "50%      16.788435    16.621145    16.548885   756.000000   301.0   \n",
       "75%      17.520347    17.396130    17.333417  1302.000000   301.0   \n",
       "max      24.802030    28.179630    20.796100  1412.000000   301.0   \n",
       "\n",
       "            camcol        field     specobjid   class     redshift  \\\n",
       "count  4152.000000  4152.000000  4.152000e+03  4152.0  4152.000000   \n",
       "mean      3.632225   303.552264  3.018202e+18     0.0     0.000043   \n",
       "std       1.647977   158.708037  2.132595e+18     0.0     0.000410   \n",
       "min       1.000000    11.000000  2.995850e+17     0.0    -0.004136   \n",
       "25%       2.000000   207.000000  1.040458e+18     0.0    -0.000133   \n",
       "50%       4.000000   303.000000  3.211180e+18     0.0     0.000024   \n",
       "75%       5.000000   412.000000  3.640140e+18     0.0     0.000218   \n",
       "max       6.000000   768.000000  9.468830e+18     0.0     0.004563   \n",
       "\n",
       "             plate           mjd      fiberid  \n",
       "count  4152.000000   4152.000000  4152.000000  \n",
       "mean   2680.613198  54093.892823   362.838391  \n",
       "std    1894.109205   1475.534114   225.632919  \n",
       "min     266.000000  51608.000000     1.000000  \n",
       "25%     924.000000  53003.000000   179.000000  \n",
       "50%    2852.000000  54471.000000   351.000000  \n",
       "75%    3233.000000  54891.000000   526.250000  \n",
       "max    8410.000000  57481.000000  1000.000000  "
      ]
     },
     "execution_count": 5,
     "metadata": {},
     "output_type": "execute_result"
    }
   ],
   "source": [
    "starsOnly.describe()"
   ]
  },
  {
   "cell_type": "code",
   "execution_count": 6,
   "metadata": {},
   "outputs": [
    {
     "data": {
      "text/plain": [
       "<matplotlib.axes._subplots.AxesSubplot at 0x1b9964fb460>"
      ]
     },
     "execution_count": 6,
     "metadata": {},
     "output_type": "execute_result"
    },
    {
     "data": {
      "image/png": "[encoded data removed]",
      "text/plain": [
       "<Figure size 432x288 with 2 Axes>"
      ]
     },
     "metadata": {
      "needs_background": "light"
     },
     "output_type": "display_data"
    }
   ],
   "source": [
    "#Visualize the data, with stars and galaxies and qso\n",
    "sdssc.plot(kind=\"scatter\",x=\"ra\",y=\"dec\",c=\"class\",alpha=0.1,cmap=plt.get_cmap(\"jet\"),colorbar=True)"
   ]
  },
  {
   "cell_type": "code",
   "execution_count": 7,
   "metadata": {},
   "outputs": [
    {
     "data": {
      "text/plain": [
       "<matplotlib.axes._subplots.AxesSubplot at 0x1b997c934f0>"
      ]
     },
     "execution_count": 7,
     "metadata": {},
     "output_type": "execute_result"
    },
    {
     "data": {
      "image/png": "[encoded data removed]",
      "text/plain": [
       "<Figure size 432x288 with 1 Axes>"
      ]
     },
     "metadata": {
      "needs_background": "light"
     },
     "output_type": "display_data"
    }
   ],
   "source": [
    "starsOnly.plot(kind=\"scatter\",x='redshift',y='plate')\n",
    "#This is going to cause problems, because there are really weird, nonlinear correlations that will mess things up"
   ]
  },
  {
   "cell_type": "code",
   "execution_count": 8,
   "metadata": {},
   "outputs": [
    {
     "name": "stdout",
     "output_type": "stream",
     "text": [
      "(3300, 18)\n",
      "(3300,)\n"
     ]
    },
    {
     "data": {
      "text/plain": [
       "(array([  2.,   0.,   0.,   0.,   1.,   0.,   1.,   0.,   0.,   0.,   0.,\n",
       "          0.,   0.,   0.,   0.,   1.,   4.,  12.,  24.,  56.,  90., 153.,\n",
       "        383., 955., 758., 355., 205., 151.,  69.,  47.,  20.,   7.,   3.,\n",
       "          0.,   0.,   0.,   1.,   0.,   0.,   0.,   0.,   0.,   0.,   0.,\n",
       "          0.,   0.,   1.,   0.,   0.,   1.]),\n",
       " array([-4.13607800e-03, -3.96209276e-03, -3.78810752e-03, -3.61412228e-03,\n",
       "        -3.44013704e-03, -3.26615180e-03, -3.09216656e-03, -2.91818132e-03,\n",
       "        -2.74419608e-03, -2.57021084e-03, -2.39622560e-03, -2.22224036e-03,\n",
       "        -2.04825512e-03, -1.87426988e-03, -1.70028464e-03, -1.52629940e-03,\n",
       "        -1.35231416e-03, -1.17832892e-03, -1.00434368e-03, -8.30358440e-04,\n",
       "        -6.56373200e-04, -4.82387960e-04, -3.08402720e-04, -1.34417480e-04,\n",
       "         3.95677600e-05,  2.13553000e-04,  3.87538240e-04,  5.61523480e-04,\n",
       "         7.35508720e-04,  9.09493960e-04,  1.08347920e-03,  1.25746444e-03,\n",
       "         1.43144968e-03,  1.60543492e-03,  1.77942016e-03,  1.95340540e-03,\n",
       "         2.12739064e-03,  2.30137588e-03,  2.47536112e-03,  2.64934636e-03,\n",
       "         2.82333160e-03,  2.99731684e-03,  3.17130208e-03,  3.34528732e-03,\n",
       "         3.51927256e-03,  3.69325780e-03,  3.86724304e-03,  4.04122828e-03,\n",
       "         4.21521352e-03,  4.38919876e-03,  4.56318400e-03]),\n",
       " <a list of 50 Patch objects>)"
      ]
     },
     "execution_count": 8,
     "metadata": {},
     "output_type": "execute_result"
    },
    {
     "data": {
      "image/png": "[encoded data removed]",
      "text/plain": [
       "<Figure size 432x288 with 1 Axes>"
      ]
     },
     "metadata": {
      "needs_background": "light"
     },
     "output_type": "display_data"
    }
   ],
   "source": [
    "#Get a training set for the stars\n",
    "X_train_full=starsOnly[:3300] #80% of the amount of star data is ~3300\n",
    "y_train_label=X_train_full[\"redshift\"]\n",
    "print(X_train_full.shape)\n",
    "print(y_train_label.shape)\n",
    "# Look at correlations\n",
    "corr_matrix=X_train_full.corr()\n",
    "corr_matrix[\"redshift\"].sort_values(ascending=False)\n",
    "#corr_matrix[\"class\"].sort_values(ascending=False)\n",
    "plt.hist(y_train_label,bins=50)"
   ]
  },
  {
   "cell_type": "code",
   "execution_count": 9,
   "metadata": {},
   "outputs": [
    {
     "name": "stdout",
     "output_type": "stream",
     "text": [
      "             u         g         r         i         z  class\n",
      "0     19.47406  17.04240  15.94699  15.50342  15.22531      0\n",
      "1     18.66280  17.21449  16.67637  16.48922  16.39150      0\n",
      "3     17.76536  16.60272  16.16116  15.98233  15.90438      0\n",
      "4     17.55025  16.26342  16.43869  16.55492  16.61326      0\n",
      "5     19.43133  18.46779  18.16451  18.01475  18.04155      0\n",
      "...        ...       ...       ...       ...       ...    ...\n",
      "8012  19.50190  19.25799  19.57236  19.81910  20.06964      0\n",
      "8014  18.14431  17.06523  16.69869  16.57107  16.53969      0\n",
      "8015  18.46614  16.88119  16.31281  16.10311  16.01222      0\n",
      "8016  18.33848  16.19855  15.46038  15.21337  15.11296      0\n",
      "8017  16.76711  15.19297  14.59694  14.35180  14.25430      0\n",
      "\n",
      "[3300 rows x 6 columns]\n",
      "(3300, 18) (3300, 6)\n"
     ]
    }
   ],
   "source": [
    "#Interesting how Gaussian the graph looks even with all of the features\n",
    "\n",
    "#Drop the non important features, keep the magnitudes and z\n",
    "X_train=X_train_full.drop(columns=[\"mjd\",\"redshift\",\"plate\",\"fiberid\",\"specobjid\",\"field\",\"camcol\",\"run\",\"rerun\",\"objid\",\"ra\",\"dec\"],axis=1)#,inplace=True)\n",
    "print(X_train)\n",
    "print(X_train_full.shape,X_train.shape)"
   ]
  },
  {
   "cell_type": "code",
   "execution_count": 10,
   "metadata": {},
   "outputs": [
    {
     "name": "stdout",
     "output_type": "stream",
     "text": [
      "Score= 0.0011344032853576325\n"
     ]
    },
    {
     "data": {
      "text/plain": [
       "'The coefficient R^2 is defined as (1-u/v), where u is the residual \\nsum of squares ((y_true - y_pred) ** 2).sum() and v is the total sum \\nof squares ((y_true - y_true.mean()) ** 2).sum()'"
      ]
     },
     "execution_count": 10,
     "metadata": {},
     "output_type": "execute_result"
    },
    {
     "data": {
      "image/png": "[encoded data removed]",
      "text/plain": [
       "<Figure size 432x288 with 1 Axes>"
      ]
     },
     "metadata": {
      "needs_background": "light"
     },
     "output_type": "display_data"
    }
   ],
   "source": [
    "from sklearn.linear_model import LinearRegression\n",
    "lin_reg=LinearRegression()\n",
    "result=lin_reg.fit(X_train,y_train_label)\n",
    "plt.hist(lin_reg.predict(X_train),bins=50)\n",
    "##There are a variety of scores one can use.\n",
    "## The simplest is the one in the method:\n",
    "print('Score= '+str(lin_reg.score(X_train,y_train_label)))\n",
    "'''The coefficient R^2 is defined as (1-u/v), where u is the residual \n",
    "sum of squares ((y_true - y_pred) ** 2).sum() and v is the total sum \n",
    "of squares ((y_true - y_true.mean()) ** 2).sum()'''\n"
   ]
  },
  {
   "cell_type": "code",
   "execution_count": 11,
   "metadata": {},
   "outputs": [
    {
     "name": "stdout",
     "output_type": "stream",
     "text": [
      "[-2.20680147e-05  3.90980033e-05  2.78796154e-05 -7.84275638e-06\n",
      " -2.77662766e-05  0.00000000e+00]\n"
     ]
    }
   ],
   "source": [
    "### Clearly, does not work so well. Let's see why.\n",
    "\n",
    "### Some of its attributes\n",
    "coeff=result.coef_\n",
    "print((coeff))\n",
    "### The problem is the mismatched amplitudes of the features\n"
   ]
  },
  {
   "cell_type": "code",
   "execution_count": 12,
   "metadata": {},
   "outputs": [
    {
     "name": "stdout",
     "output_type": "stream",
     "text": [
      "[-2.20680147e-05  3.90980033e-05  2.78796154e-05 -7.84275638e-06\n",
      " -2.77662766e-05  0.00000000e+00]\n",
      "[5.77667378e-05 6.26207014e-05]\n",
      "0   -0.000009\n",
      "1   -0.000055\n",
      "Name: redshift, dtype: float64\n",
      "Score= 0.0011344032853576325\n"
     ]
    },
    {
     "data": {
      "image/png": "[encoded data removed]",
      "text/plain": [
       "<Figure size 432x288 with 1 Axes>"
      ]
     },
     "metadata": {
      "needs_background": "light"
     },
     "output_type": "display_data"
    }
   ],
   "source": [
    "### Do it again this time normalizing:\n",
    "lin_reg=LinearRegression(normalize=True)\n",
    "result_norm=lin_reg.fit(X_train,y_train_label)\n",
    "coeff_norm=result_norm.coef_\n",
    "print(coeff_norm)\n",
    "print(lin_reg.predict(X_train[:2]))\n",
    "#print((X_train_full[:2]))\n",
    "print(y_train_label[:2])\n",
    "#plt.hist(lin_reg.predict(X_train_full),bins=50)\n",
    "plt.scatter(lin_reg.predict(X_train),y_train_label)\n",
    "plt.xlabel('$z_{predicted}$')\n",
    "plt.ylabel('$z_{true}$')\n",
    "plt.axis([0,.001,0,.001])\n",
    "print('Score= '+str(lin_reg.score(X_train,y_train_label)))\n",
    "#Makes sense that redshift for stars is so low."
   ]
  },
  {
   "cell_type": "code",
   "execution_count": 13,
   "metadata": {},
   "outputs": [
    {
     "name": "stdout",
     "output_type": "stream",
     "text": [
      "class 0.0\n",
      "i -7.842756383518667e-06\n",
      "u -2.206801472305951e-05\n",
      "z -2.7766276561463443e-05\n",
      "r 2.7879615356302692e-05\n",
      "g 3.9098003313178925e-05\n",
      "Index(['u', 'g', 'r', 'i', 'z', 'class'], dtype='object')\n"
     ]
    }
   ],
   "source": [
    "### This does better but still not well. \n",
    "### Look at the coefficients that are largest here are:\n",
    "ind=np.argsort(np.abs(coeff_norm))\n",
    "for i in ind:\n",
    "    print(X_train.columns[i],coeff_norm[i])\n",
    "print(X_train.columns)"
   ]
  },
  {
   "cell_type": "markdown",
   "metadata": {},
   "source": [
    "It makes sense that the colors and the type have relatively large coefficients and the class since stars will have very low redshifts and galaxies and QSO'S will have much larger ones. (It does not make sense to me that plate carries any weight.) Indeed it seems likely that the problem is that the class coefficient is trying to push all the stars to have low z and might even be doing that correctly. Let's see."
   ]
  },
  {
   "cell_type": "code",
   "execution_count": 14,
   "metadata": {},
   "outputs": [
    {
     "name": "stdout",
     "output_type": "stream",
     "text": [
      "<class 'pandas.core.frame.DataFrame'>\n",
      "Int64Index: 4998 entries, 2 to 9999\n",
      "Data columns (total 18 columns):\n",
      " #   Column     Non-Null Count  Dtype  \n",
      "---  ------     --------------  -----  \n",
      " 0   objid      4998 non-null   float64\n",
      " 1   ra         4998 non-null   float64\n",
      " 2   dec        4998 non-null   float64\n",
      " 3   u          4998 non-null   float64\n",
      " 4   g          4998 non-null   float64\n",
      " 5   r          4998 non-null   float64\n",
      " 6   i          4998 non-null   float64\n",
      " 7   z          4998 non-null   float64\n",
      " 8   run        4998 non-null   int64  \n",
      " 9   rerun      4998 non-null   int64  \n",
      " 10  camcol     4998 non-null   int64  \n",
      " 11  field      4998 non-null   int64  \n",
      " 12  specobjid  4998 non-null   float64\n",
      " 13  class      4998 non-null   int32  \n",
      " 14  redshift   4998 non-null   float64\n",
      " 15  plate      4998 non-null   int64  \n",
      " 16  mjd        4998 non-null   int64  \n",
      " 17  fiberid    4998 non-null   int64  \n",
      "dtypes: float64(10), int32(1), int64(7)\n",
      "memory usage: 722.4 KB\n"
     ]
    }
   ],
   "source": [
    "# Stars only gave a terrible score, out of curiousity I want to see the same process but with galaxies only\n",
    "\n",
    "galaxiesOnly = sdssc[sdssc[\"class\"]==1]\n",
    "galaxiesOnly.info()"
   ]
  },
  {
   "cell_type": "code",
   "execution_count": 15,
   "metadata": {},
   "outputs": [
    {
     "data": {
      "text/html": [
       "<div>\n",
       "<style scoped>\n",
       "    .dataframe tbody tr th:only-of-type {\n",
       "        vertical-align: middle;\n",
       "    }\n",
       "\n",
       "    .dataframe tbody tr th {\n",
       "        vertical-align: top;\n",
       "    }\n",
       "\n",
       "    .dataframe thead th {\n",
       "        text-align: right;\n",
       "    }\n",
       "</style>\n",
       "<table border=\"1\" class=\"dataframe\">\n",
       "  <thead>\n",
       "    <tr style=\"text-align: right;\">\n",
       "      <th></th>\n",
       "      <th>objid</th>\n",
       "      <th>ra</th>\n",
       "      <th>dec</th>\n",
       "      <th>u</th>\n",
       "      <th>g</th>\n",
       "      <th>r</th>\n",
       "      <th>i</th>\n",
       "      <th>z</th>\n",
       "      <th>run</th>\n",
       "      <th>rerun</th>\n",
       "      <th>camcol</th>\n",
       "      <th>field</th>\n",
       "      <th>specobjid</th>\n",
       "      <th>class</th>\n",
       "      <th>redshift</th>\n",
       "      <th>plate</th>\n",
       "      <th>mjd</th>\n",
       "      <th>fiberid</th>\n",
       "    </tr>\n",
       "  </thead>\n",
       "  <tbody>\n",
       "    <tr>\n",
       "      <th>count</th>\n",
       "      <td>4.998000e+03</td>\n",
       "      <td>4998.000000</td>\n",
       "      <td>4998.000000</td>\n",
       "      <td>4998.000000</td>\n",
       "      <td>4998.000000</td>\n",
       "      <td>4998.000000</td>\n",
       "      <td>4998.000000</td>\n",
       "      <td>4998.000000</td>\n",
       "      <td>4998.000000</td>\n",
       "      <td>4998.0</td>\n",
       "      <td>4998.000000</td>\n",
       "      <td>4998.000000</td>\n",
       "      <td>4.998000e+03</td>\n",
       "      <td>4998.0</td>\n",
       "      <td>4998.000000</td>\n",
       "      <td>4998.000000</td>\n",
       "      <td>4998.000000</td>\n",
       "      <td>4998.000000</td>\n",
       "    </tr>\n",
       "    <tr>\n",
       "      <th>mean</th>\n",
       "      <td>1.237650e+18</td>\n",
       "      <td>177.333570</td>\n",
       "      <td>15.764372</td>\n",
       "      <td>18.804339</td>\n",
       "      <td>17.350216</td>\n",
       "      <td>16.649506</td>\n",
       "      <td>16.272770</td>\n",
       "      <td>16.017923</td>\n",
       "      <td>996.711685</td>\n",
       "      <td>301.0</td>\n",
       "      <td>3.654662</td>\n",
       "      <td>300.963585</td>\n",
       "      <td>5.379141e+17</td>\n",
       "      <td>1.0</td>\n",
       "      <td>0.080325</td>\n",
       "      <td>477.680672</td>\n",
       "      <td>52030.280912</td>\n",
       "      <td>340.108844</td>\n",
       "    </tr>\n",
       "    <tr>\n",
       "      <th>std</th>\n",
       "      <td>1.108591e+05</td>\n",
       "      <td>46.777154</td>\n",
       "      <td>25.685596</td>\n",
       "      <td>0.692389</td>\n",
       "      <td>0.757240</td>\n",
       "      <td>0.848500</td>\n",
       "      <td>0.885694</td>\n",
       "      <td>0.947040</td>\n",
       "      <td>273.808945</td>\n",
       "      <td>0.0</td>\n",
       "      <td>1.679786</td>\n",
       "      <td>165.836017</td>\n",
       "      <td>8.107982e+17</td>\n",
       "      <td>0.0</td>\n",
       "      <td>0.046036</td>\n",
       "      <td>720.126177</td>\n",
       "      <td>628.579986</td>\n",
       "      <td>186.852622</td>\n",
       "    </tr>\n",
       "    <tr>\n",
       "      <th>min</th>\n",
       "      <td>1.237650e+18</td>\n",
       "      <td>8.291367</td>\n",
       "      <td>-5.378794</td>\n",
       "      <td>14.458560</td>\n",
       "      <td>13.080550</td>\n",
       "      <td>12.431600</td>\n",
       "      <td>11.947210</td>\n",
       "      <td>11.610410</td>\n",
       "      <td>308.000000</td>\n",
       "      <td>301.0</td>\n",
       "      <td>1.000000</td>\n",
       "      <td>11.000000</td>\n",
       "      <td>2.995780e+17</td>\n",
       "      <td>1.0</td>\n",
       "      <td>-0.000513</td>\n",
       "      <td>266.000000</td>\n",
       "      <td>51578.000000</td>\n",
       "      <td>1.000000</td>\n",
       "    </tr>\n",
       "    <tr>\n",
       "      <th>25%</th>\n",
       "      <td>1.237650e+18</td>\n",
       "      <td>155.541880</td>\n",
       "      <td>-0.548706</td>\n",
       "      <td>18.504252</td>\n",
       "      <td>16.977958</td>\n",
       "      <td>16.191585</td>\n",
       "      <td>15.778690</td>\n",
       "      <td>15.459365</td>\n",
       "      <td>756.000000</td>\n",
       "      <td>301.0</td>\n",
       "      <td>2.000000</td>\n",
       "      <td>179.000000</td>\n",
       "      <td>3.198208e+17</td>\n",
       "      <td>1.0</td>\n",
       "      <td>0.051216</td>\n",
       "      <td>284.000000</td>\n",
       "      <td>51871.500000</td>\n",
       "      <td>186.250000</td>\n",
       "    </tr>\n",
       "    <tr>\n",
       "      <th>50%</th>\n",
       "      <td>1.237650e+18</td>\n",
       "      <td>178.235210</td>\n",
       "      <td>0.479262</td>\n",
       "      <td>18.988990</td>\n",
       "      <td>17.496555</td>\n",
       "      <td>16.741390</td>\n",
       "      <td>16.349395</td>\n",
       "      <td>16.073810</td>\n",
       "      <td>756.000000</td>\n",
       "      <td>301.0</td>\n",
       "      <td>4.000000</td>\n",
       "      <td>291.000000</td>\n",
       "      <td>3.738095e+17</td>\n",
       "      <td>1.0</td>\n",
       "      <td>0.077330</td>\n",
       "      <td>332.000000</td>\n",
       "      <td>51913.000000</td>\n",
       "      <td>345.000000</td>\n",
       "    </tr>\n",
       "    <tr>\n",
       "      <th>75%</th>\n",
       "      <td>1.237650e+18</td>\n",
       "      <td>204.606519</td>\n",
       "      <td>45.238498</td>\n",
       "      <td>19.315660</td>\n",
       "      <td>17.888335</td>\n",
       "      <td>17.272227</td>\n",
       "      <td>16.906570</td>\n",
       "      <td>16.695103</td>\n",
       "      <td>1334.000000</td>\n",
       "      <td>301.0</td>\n",
       "      <td>5.000000</td>\n",
       "      <td>413.000000</td>\n",
       "      <td>5.010928e+17</td>\n",
       "      <td>1.0</td>\n",
       "      <td>0.101164</td>\n",
       "      <td>445.000000</td>\n",
       "      <td>51999.000000</td>\n",
       "      <td>496.000000</td>\n",
       "    </tr>\n",
       "    <tr>\n",
       "      <th>max</th>\n",
       "      <td>1.237650e+18</td>\n",
       "      <td>260.559672</td>\n",
       "      <td>68.542265</td>\n",
       "      <td>19.599900</td>\n",
       "      <td>19.682320</td>\n",
       "      <td>24.802040</td>\n",
       "      <td>24.361810</td>\n",
       "      <td>22.833060</td>\n",
       "      <td>1412.000000</td>\n",
       "      <td>301.0</td>\n",
       "      <td>6.000000</td>\n",
       "      <td>764.000000</td>\n",
       "      <td>8.514180e+18</td>\n",
       "      <td>1.0</td>\n",
       "      <td>0.855881</td>\n",
       "      <td>7562.000000</td>\n",
       "      <td>56799.000000</td>\n",
       "      <td>994.000000</td>\n",
       "    </tr>\n",
       "  </tbody>\n",
       "</table>\n",
       "</div>"
      ],
      "text/plain": [
       "              objid           ra          dec            u            g  \\\n",
       "count  4.998000e+03  4998.000000  4998.000000  4998.000000  4998.000000   \n",
       "mean   1.237650e+18   177.333570    15.764372    18.804339    17.350216   \n",
       "std    1.108591e+05    46.777154    25.685596     0.692389     0.757240   \n",
       "min    1.237650e+18     8.291367    -5.378794    14.458560    13.080550   \n",
       "25%    1.237650e+18   155.541880    -0.548706    18.504252    16.977958   \n",
       "50%    1.237650e+18   178.235210     0.479262    18.988990    17.496555   \n",
       "75%    1.237650e+18   204.606519    45.238498    19.315660    17.888335   \n",
       "max    1.237650e+18   260.559672    68.542265    19.599900    19.682320   \n",
       "\n",
       "                 r            i            z          run   rerun  \\\n",
       "count  4998.000000  4998.000000  4998.000000  4998.000000  4998.0   \n",
       "mean     16.649506    16.272770    16.017923   996.711685   301.0   \n",
       "std       0.848500     0.885694     0.947040   273.808945     0.0   \n",
       "min      12.431600    11.947210    11.610410   308.000000   301.0   \n",
       "25%      16.191585    15.778690    15.459365   756.000000   301.0   \n",
       "50%      16.741390    16.349395    16.073810   756.000000   301.0   \n",
       "75%      17.272227    16.906570    16.695103  1334.000000   301.0   \n",
       "max      24.802040    24.361810    22.833060  1412.000000   301.0   \n",
       "\n",
       "            camcol        field     specobjid   class     redshift  \\\n",
       "count  4998.000000  4998.000000  4.998000e+03  4998.0  4998.000000   \n",
       "mean      3.654662   300.963585  5.379141e+17     1.0     0.080325   \n",
       "std       1.679786   165.836017  8.107982e+17     0.0     0.046036   \n",
       "min       1.000000    11.000000  2.995780e+17     1.0    -0.000513   \n",
       "25%       2.000000   179.000000  3.198208e+17     1.0     0.051216   \n",
       "50%       4.000000   291.000000  3.738095e+17     1.0     0.077330   \n",
       "75%       5.000000   413.000000  5.010928e+17     1.0     0.101164   \n",
       "max       6.000000   764.000000  8.514180e+18     1.0     0.855881   \n",
       "\n",
       "             plate           mjd      fiberid  \n",
       "count  4998.000000   4998.000000  4998.000000  \n",
       "mean    477.680672  52030.280912   340.108844  \n",
       "std     720.126177    628.579986   186.852622  \n",
       "min     266.000000  51578.000000     1.000000  \n",
       "25%     284.000000  51871.500000   186.250000  \n",
       "50%     332.000000  51913.000000   345.000000  \n",
       "75%     445.000000  51999.000000   496.000000  \n",
       "max    7562.000000  56799.000000   994.000000  "
      ]
     },
     "execution_count": 15,
     "metadata": {},
     "output_type": "execute_result"
    }
   ],
   "source": [
    "galaxiesOnly.describe()"
   ]
  },
  {
   "cell_type": "code",
   "execution_count": 16,
   "metadata": {},
   "outputs": [
    {
     "data": {
      "text/plain": [
       "<matplotlib.axes._subplots.AxesSubplot at 0x1b99911e460>"
      ]
     },
     "execution_count": 16,
     "metadata": {},
     "output_type": "execute_result"
    },
    {
     "data": {
      "image/png": "[encoded data removed]",
      "text/plain": [
       "<Figure size 432x288 with 1 Axes>"
      ]
     },
     "metadata": {
      "needs_background": "light"
     },
     "output_type": "display_data"
    }
   ],
   "source": [
    "galaxiesOnly.plot(kind=\"scatter\",x='redshift',y='plate')"
   ]
  },
  {
   "cell_type": "code",
   "execution_count": 17,
   "metadata": {},
   "outputs": [
    {
     "name": "stdout",
     "output_type": "stream",
     "text": [
      "(4000, 18)\n",
      "(4000,)\n"
     ]
    },
    {
     "data": {
      "text/plain": [
       "(array([ 83., 340., 582., 616., 831., 613., 415., 256., 134.,  64.,  26.,\n",
       "         12.,   9.,   3.,   2.,   2.,   1.,   1.,   1.,   0.,   1.,   0.,\n",
       "          0.,   0.,   0.,   1.,   0.,   0.,   0.,   1.,   1.,   0.,   0.,\n",
       "          0.,   1.,   0.,   0.,   0.,   1.,   0.,   0.,   0.,   1.,   0.,\n",
       "          1.,   0.,   0.,   0.,   0.,   1.]),\n",
       " array([-5.13374000e-04,  1.66145195e-02,  3.37424130e-02,  5.08703064e-02,\n",
       "         6.79981999e-02,  8.51260934e-02,  1.02253987e-01,  1.19381880e-01,\n",
       "         1.36509774e-01,  1.53637667e-01,  1.70765561e-01,  1.87893454e-01,\n",
       "         2.05021348e-01,  2.22149241e-01,  2.39277135e-01,  2.56405028e-01,\n",
       "         2.73532922e-01,  2.90660815e-01,  3.07788709e-01,  3.24916602e-01,\n",
       "         3.42044496e-01,  3.59172389e-01,  3.76300283e-01,  3.93428176e-01,\n",
       "         4.10556070e-01,  4.27683963e-01,  4.44811856e-01,  4.61939750e-01,\n",
       "         4.79067643e-01,  4.96195537e-01,  5.13323430e-01,  5.30451324e-01,\n",
       "         5.47579217e-01,  5.64707111e-01,  5.81835004e-01,  5.98962898e-01,\n",
       "         6.16090791e-01,  6.33218685e-01,  6.50346578e-01,  6.67474472e-01,\n",
       "         6.84602365e-01,  7.01730259e-01,  7.18858152e-01,  7.35986046e-01,\n",
       "         7.53113939e-01,  7.70241833e-01,  7.87369726e-01,  8.04497620e-01,\n",
       "         8.21625513e-01,  8.38753407e-01,  8.55881300e-01]),\n",
       " <a list of 50 Patch objects>)"
      ]
     },
     "execution_count": 17,
     "metadata": {},
     "output_type": "execute_result"
    },
    {
     "data": {
      "image/png": "[encoded data removed]",
      "text/plain": [
       "<Figure size 432x288 with 1 Axes>"
      ]
     },
     "metadata": {
      "needs_background": "light"
     },
     "output_type": "display_data"
    }
   ],
   "source": [
    "#Get a training set for the galaxies\n",
    "X_train_full=galaxiesOnly[:4000] #80% of the amount of galaxy data is ~4000\n",
    "y_train_label=X_train_full[\"redshift\"]\n",
    "print(X_train_full.shape)\n",
    "print(y_train_label.shape)\n",
    "# Look at correlations\n",
    "corr_matrix=X_train_full.corr()\n",
    "corr_matrix[\"redshift\"].sort_values(ascending=False)\n",
    "#corr_matrix[\"class\"].sort_values(ascending=False)\n",
    "plt.hist(y_train_label,bins=50)"
   ]
  },
  {
   "cell_type": "code",
   "execution_count": 18,
   "metadata": {},
   "outputs": [
    {
     "name": "stdout",
     "output_type": "stream",
     "text": [
      "             u         g         r         i         z  class\n",
      "2     19.38298  18.19169  17.47428  17.08732  16.80125      1\n",
      "6     19.38322  17.88995  17.10537  16.66393  16.36955      1\n",
      "9     18.67249  17.71375  17.49362  17.28284  17.22644      1\n",
      "14    19.25667  17.54869  16.63578  16.14922  15.76639      1\n",
      "19    17.81661  16.86976  16.53884  16.19576  16.08668      1\n",
      "...        ...       ...       ...       ...       ...    ...\n",
      "7847  19.19930  18.27246  17.78881  17.51302  17.33675      1\n",
      "7866  19.15625  18.08972  17.79720  17.57063  17.48377      1\n",
      "7867  17.84915  16.64703  16.10961  15.80125  15.58915      1\n",
      "7872  18.36531  17.11435  16.50102  16.13320  15.88523      1\n",
      "7874  19.21375  17.61476  16.78795  16.30011  15.92994      1\n",
      "\n",
      "[4000 rows x 6 columns]\n",
      "(4000, 18) (4000, 6)\n"
     ]
    }
   ],
   "source": [
    "#Drop the non important features, keep the magnitudes and z\n",
    "X_train=X_train_full.drop(columns=[\"mjd\",\"redshift\",\"plate\",\"fiberid\",\"specobjid\",\"field\",\"camcol\",\"run\",\"rerun\",\"objid\",\"ra\",\"dec\"],axis=1)#,inplace=True)\n",
    "print(X_train)\n",
    "print(X_train_full.shape,X_train.shape)"
   ]
  },
  {
   "cell_type": "code",
   "execution_count": 19,
   "metadata": {},
   "outputs": [
    {
     "name": "stdout",
     "output_type": "stream",
     "text": [
      "Score= 0.3076160107682727\n"
     ]
    },
    {
     "data": {
      "image/png": "[encoded data removed]",
      "text/plain": [
       "<Figure size 432x288 with 1 Axes>"
      ]
     },
     "metadata": {
      "needs_background": "light"
     },
     "output_type": "display_data"
    }
   ],
   "source": [
    "from sklearn.linear_model import LinearRegression\n",
    "lin_reg=LinearRegression()\n",
    "result=lin_reg.fit(X_train,y_train_label)\n",
    "plt.hist(lin_reg.predict(X_train),bins=50)\n",
    "##There are a variety of scores one can use.\n",
    "## The simplest is the one in the method:\n",
    "print('Score= '+str(lin_reg.score(X_train,y_train_label)))\n"
   ]
  },
  {
   "cell_type": "code",
   "execution_count": 20,
   "metadata": {},
   "outputs": [
    {
     "name": "stdout",
     "output_type": "stream",
     "text": [
      "[-0.05772611  0.17156335 -0.02238836 -0.05077568 -0.01929299  0.        ]\n",
      "[0.1153919  0.10169651]\n",
      "2    0.123111\n",
      "6    0.100242\n",
      "Name: redshift, dtype: float64\n",
      "Score= 0.30761601076827305\n"
     ]
    },
    {
     "data": {
      "image/png": "[encoded data removed]",
      "text/plain": [
       "<Figure size 432x288 with 1 Axes>"
      ]
     },
     "metadata": {
      "needs_background": "light"
     },
     "output_type": "display_data"
    }
   ],
   "source": [
    "### Do it again this time normalizing:\n",
    "lin_reg=LinearRegression(normalize=True)\n",
    "result_norm=lin_reg.fit(X_train,y_train_label)\n",
    "coeff_norm=result_norm.coef_\n",
    "print(coeff_norm)\n",
    "print(lin_reg.predict(X_train[:2]))\n",
    "#print((X_train_full[:2]))\n",
    "print(y_train_label[:2])\n",
    "#plt.hist(lin_reg.predict(X_train_full),bins=50)\n",
    "plt.scatter(lin_reg.predict(X_train),y_train_label)\n",
    "plt.xlabel('$z_{predicted}$')\n",
    "plt.ylabel('$z_{true}$')\n",
    "plt.axis([0,1,0,1])\n",
    "print('Score= '+str(lin_reg.score(X_train,y_train_label)))\n",
    "#"
   ]
  },
  {
   "cell_type": "code",
   "execution_count": 21,
   "metadata": {},
   "outputs": [
    {
     "name": "stdout",
     "output_type": "stream",
     "text": [
      "class 0.0\n",
      "z -0.01929298794835873\n",
      "r -0.02238835775548209\n",
      "i -0.050775679709575985\n",
      "u -0.05772610964845397\n",
      "g 0.17156334875473325\n",
      "Index(['u', 'g', 'r', 'i', 'z', 'class'], dtype='object')\n"
     ]
    }
   ],
   "source": [
    "# The score was much better than the starsOnly \n",
    "\n",
    "### Look at the coefficients that are largest here are:\n",
    "ind=np.argsort(np.abs(coeff_norm))\n",
    "for i in ind:\n",
    "    print(X_train.columns[i],coeff_norm[i])\n",
    "print(X_train.columns)"
   ]
  },
  {
   "cell_type": "markdown",
   "metadata": {},
   "source": [
    "Finally try it on QSOs"
   ]
  },
  {
   "cell_type": "code",
   "execution_count": 22,
   "metadata": {},
   "outputs": [
    {
     "name": "stdout",
     "output_type": "stream",
     "text": [
      "<class 'pandas.core.frame.DataFrame'>\n",
      "Int64Index: 850 entries, 15 to 9979\n",
      "Data columns (total 18 columns):\n",
      " #   Column     Non-Null Count  Dtype  \n",
      "---  ------     --------------  -----  \n",
      " 0   objid      850 non-null    float64\n",
      " 1   ra         850 non-null    float64\n",
      " 2   dec        850 non-null    float64\n",
      " 3   u          850 non-null    float64\n",
      " 4   g          850 non-null    float64\n",
      " 5   r          850 non-null    float64\n",
      " 6   i          850 non-null    float64\n",
      " 7   z          850 non-null    float64\n",
      " 8   run        850 non-null    int64  \n",
      " 9   rerun      850 non-null    int64  \n",
      " 10  camcol     850 non-null    int64  \n",
      " 11  field      850 non-null    int64  \n",
      " 12  specobjid  850 non-null    float64\n",
      " 13  class      850 non-null    int32  \n",
      " 14  redshift   850 non-null    float64\n",
      " 15  plate      850 non-null    int64  \n",
      " 16  mjd        850 non-null    int64  \n",
      " 17  fiberid    850 non-null    int64  \n",
      "dtypes: float64(10), int32(1), int64(7)\n",
      "memory usage: 122.9 KB\n"
     ]
    }
   ],
   "source": [
    "#Filter out anything that is not a star\n",
    "qsoOnly = sdssc[sdssc[\"class\"]==2]\n",
    "qsoOnly.info()"
   ]
  },
  {
   "cell_type": "code",
   "execution_count": 23,
   "metadata": {},
   "outputs": [
    {
     "data": {
      "text/html": [
       "<div>\n",
       "<style scoped>\n",
       "    .dataframe tbody tr th:only-of-type {\n",
       "        vertical-align: middle;\n",
       "    }\n",
       "\n",
       "    .dataframe tbody tr th {\n",
       "        vertical-align: top;\n",
       "    }\n",
       "\n",
       "    .dataframe thead th {\n",
       "        text-align: right;\n",
       "    }\n",
       "</style>\n",
       "<table border=\"1\" class=\"dataframe\">\n",
       "  <thead>\n",
       "    <tr style=\"text-align: right;\">\n",
       "      <th></th>\n",
       "      <th>objid</th>\n",
       "      <th>ra</th>\n",
       "      <th>dec</th>\n",
       "      <th>u</th>\n",
       "      <th>g</th>\n",
       "      <th>r</th>\n",
       "      <th>i</th>\n",
       "      <th>z</th>\n",
       "      <th>run</th>\n",
       "      <th>rerun</th>\n",
       "      <th>camcol</th>\n",
       "      <th>field</th>\n",
       "      <th>specobjid</th>\n",
       "      <th>class</th>\n",
       "      <th>redshift</th>\n",
       "      <th>plate</th>\n",
       "      <th>mjd</th>\n",
       "      <th>fiberid</th>\n",
       "    </tr>\n",
       "  </thead>\n",
       "  <tbody>\n",
       "    <tr>\n",
       "      <th>count</th>\n",
       "      <td>8.500000e+02</td>\n",
       "      <td>850.000000</td>\n",
       "      <td>850.000000</td>\n",
       "      <td>850.000000</td>\n",
       "      <td>850.000000</td>\n",
       "      <td>850.000000</td>\n",
       "      <td>850.000000</td>\n",
       "      <td>850.000000</td>\n",
       "      <td>850.000000</td>\n",
       "      <td>850.0</td>\n",
       "      <td>850.000000</td>\n",
       "      <td>850.000000</td>\n",
       "      <td>8.500000e+02</td>\n",
       "      <td>850.0</td>\n",
       "      <td>850.000000</td>\n",
       "      <td>850.000000</td>\n",
       "      <td>850.000000</td>\n",
       "      <td>850.000000</td>\n",
       "    </tr>\n",
       "    <tr>\n",
       "      <th>mean</th>\n",
       "      <td>1.237650e+18</td>\n",
       "      <td>177.468000</td>\n",
       "      <td>20.570639</td>\n",
       "      <td>18.942928</td>\n",
       "      <td>18.678714</td>\n",
       "      <td>18.498535</td>\n",
       "      <td>18.360007</td>\n",
       "      <td>18.274761</td>\n",
       "      <td>1036.120000</td>\n",
       "      <td>301.0</td>\n",
       "      <td>3.694118</td>\n",
       "      <td>304.983529</td>\n",
       "      <td>1.447231e+18</td>\n",
       "      <td>2.0</td>\n",
       "      <td>1.218366</td>\n",
       "      <td>1285.305882</td>\n",
       "      <td>52694.289412</td>\n",
       "      <td>381.558824</td>\n",
       "    </tr>\n",
       "    <tr>\n",
       "      <th>std</th>\n",
       "      <td>2.126051e+04</td>\n",
       "      <td>47.101029</td>\n",
       "      <td>27.932922</td>\n",
       "      <td>0.569208</td>\n",
       "      <td>0.614986</td>\n",
       "      <td>0.673280</td>\n",
       "      <td>0.719977</td>\n",
       "      <td>0.774447</td>\n",
       "      <td>279.092636</td>\n",
       "      <td>0.0</td>\n",
       "      <td>1.675174</td>\n",
       "      <td>162.016001</td>\n",
       "      <td>2.278053e+18</td>\n",
       "      <td>0.0</td>\n",
       "      <td>0.697699</td>\n",
       "      <td>2023.299687</td>\n",
       "      <td>1574.906321</td>\n",
       "      <td>211.082659</td>\n",
       "    </tr>\n",
       "    <tr>\n",
       "      <th>min</th>\n",
       "      <td>1.237650e+18</td>\n",
       "      <td>9.838536</td>\n",
       "      <td>-5.319284</td>\n",
       "      <td>15.928460</td>\n",
       "      <td>15.758340</td>\n",
       "      <td>15.359820</td>\n",
       "      <td>14.818070</td>\n",
       "      <td>14.515940</td>\n",
       "      <td>727.000000</td>\n",
       "      <td>301.0</td>\n",
       "      <td>1.000000</td>\n",
       "      <td>13.000000</td>\n",
       "      <td>2.995980e+17</td>\n",
       "      <td>2.0</td>\n",
       "      <td>0.000461</td>\n",
       "      <td>266.000000</td>\n",
       "      <td>51608.000000</td>\n",
       "      <td>5.000000</td>\n",
       "    </tr>\n",
       "    <tr>\n",
       "      <th>25%</th>\n",
       "      <td>1.237650e+18</td>\n",
       "      <td>155.494332</td>\n",
       "      <td>-0.531296</td>\n",
       "      <td>18.712000</td>\n",
       "      <td>18.406470</td>\n",
       "      <td>18.188030</td>\n",
       "      <td>18.050822</td>\n",
       "      <td>17.930032</td>\n",
       "      <td>756.000000</td>\n",
       "      <td>301.0</td>\n",
       "      <td>2.000000</td>\n",
       "      <td>180.500000</td>\n",
       "      <td>3.311365e+17</td>\n",
       "      <td>2.0</td>\n",
       "      <td>0.651192</td>\n",
       "      <td>294.000000</td>\n",
       "      <td>51900.000000</td>\n",
       "      <td>215.000000</td>\n",
       "    </tr>\n",
       "    <tr>\n",
       "      <th>50%</th>\n",
       "      <td>1.237650e+18</td>\n",
       "      <td>181.134116</td>\n",
       "      <td>0.657986</td>\n",
       "      <td>19.088800</td>\n",
       "      <td>18.822220</td>\n",
       "      <td>18.659365</td>\n",
       "      <td>18.529880</td>\n",
       "      <td>18.457200</td>\n",
       "      <td>1035.000000</td>\n",
       "      <td>301.0</td>\n",
       "      <td>4.000000</td>\n",
       "      <td>298.500000</td>\n",
       "      <td>4.132875e+17</td>\n",
       "      <td>2.0</td>\n",
       "      <td>1.234131</td>\n",
       "      <td>367.000000</td>\n",
       "      <td>51986.000000</td>\n",
       "      <td>386.500000</td>\n",
       "    </tr>\n",
       "    <tr>\n",
       "      <th>75%</th>\n",
       "      <td>1.237650e+18</td>\n",
       "      <td>206.302080</td>\n",
       "      <td>53.336887</td>\n",
       "      <td>19.359895</td>\n",
       "      <td>19.119875</td>\n",
       "      <td>18.963767</td>\n",
       "      <td>18.848378</td>\n",
       "      <td>18.800670</td>\n",
       "      <td>1345.000000</td>\n",
       "      <td>301.0</td>\n",
       "      <td>5.000000</td>\n",
       "      <td>418.750000</td>\n",
       "      <td>6.813185e+17</td>\n",
       "      <td>2.0</td>\n",
       "      <td>1.744641</td>\n",
       "      <td>605.000000</td>\n",
       "      <td>52366.500000</td>\n",
       "      <td>532.000000</td>\n",
       "    </tr>\n",
       "    <tr>\n",
       "      <th>max</th>\n",
       "      <td>1.237650e+18</td>\n",
       "      <td>258.867602</td>\n",
       "      <td>68.540567</td>\n",
       "      <td>19.599750</td>\n",
       "      <td>19.738690</td>\n",
       "      <td>19.874080</td>\n",
       "      <td>20.011050</td>\n",
       "      <td>20.444290</td>\n",
       "      <td>1412.000000</td>\n",
       "      <td>301.0</td>\n",
       "      <td>6.000000</td>\n",
       "      <td>710.000000</td>\n",
       "      <td>9.319320e+18</td>\n",
       "      <td>2.0</td>\n",
       "      <td>5.353854</td>\n",
       "      <td>8277.000000</td>\n",
       "      <td>57391.000000</td>\n",
       "      <td>980.000000</td>\n",
       "    </tr>\n",
       "  </tbody>\n",
       "</table>\n",
       "</div>"
      ],
      "text/plain": [
       "              objid          ra         dec           u           g  \\\n",
       "count  8.500000e+02  850.000000  850.000000  850.000000  850.000000   \n",
       "mean   1.237650e+18  177.468000   20.570639   18.942928   18.678714   \n",
       "std    2.126051e+04   47.101029   27.932922    0.569208    0.614986   \n",
       "min    1.237650e+18    9.838536   -5.319284   15.928460   15.758340   \n",
       "25%    1.237650e+18  155.494332   -0.531296   18.712000   18.406470   \n",
       "50%    1.237650e+18  181.134116    0.657986   19.088800   18.822220   \n",
       "75%    1.237650e+18  206.302080   53.336887   19.359895   19.119875   \n",
       "max    1.237650e+18  258.867602   68.540567   19.599750   19.738690   \n",
       "\n",
       "                r           i           z          run  rerun      camcol  \\\n",
       "count  850.000000  850.000000  850.000000   850.000000  850.0  850.000000   \n",
       "mean    18.498535   18.360007   18.274761  1036.120000  301.0    3.694118   \n",
       "std      0.673280    0.719977    0.774447   279.092636    0.0    1.675174   \n",
       "min     15.359820   14.818070   14.515940   727.000000  301.0    1.000000   \n",
       "25%     18.188030   18.050822   17.930032   756.000000  301.0    2.000000   \n",
       "50%     18.659365   18.529880   18.457200  1035.000000  301.0    4.000000   \n",
       "75%     18.963767   18.848378   18.800670  1345.000000  301.0    5.000000   \n",
       "max     19.874080   20.011050   20.444290  1412.000000  301.0    6.000000   \n",
       "\n",
       "            field     specobjid  class    redshift        plate           mjd  \\\n",
       "count  850.000000  8.500000e+02  850.0  850.000000   850.000000    850.000000   \n",
       "mean   304.983529  1.447231e+18    2.0    1.218366  1285.305882  52694.289412   \n",
       "std    162.016001  2.278053e+18    0.0    0.697699  2023.299687   1574.906321   \n",
       "min     13.000000  2.995980e+17    2.0    0.000461   266.000000  51608.000000   \n",
       "25%    180.500000  3.311365e+17    2.0    0.651192   294.000000  51900.000000   \n",
       "50%    298.500000  4.132875e+17    2.0    1.234131   367.000000  51986.000000   \n",
       "75%    418.750000  6.813185e+17    2.0    1.744641   605.000000  52366.500000   \n",
       "max    710.000000  9.319320e+18    2.0    5.353854  8277.000000  57391.000000   \n",
       "\n",
       "          fiberid  \n",
       "count  850.000000  \n",
       "mean   381.558824  \n",
       "std    211.082659  \n",
       "min      5.000000  \n",
       "25%    215.000000  \n",
       "50%    386.500000  \n",
       "75%    532.000000  \n",
       "max    980.000000  "
      ]
     },
     "execution_count": 23,
     "metadata": {},
     "output_type": "execute_result"
    }
   ],
   "source": [
    "qsoOnly.describe()"
   ]
  },
  {
   "cell_type": "code",
   "execution_count": 24,
   "metadata": {},
   "outputs": [
    {
     "data": {
      "text/plain": [
       "<matplotlib.axes._subplots.AxesSubplot at 0x1b997c38f70>"
      ]
     },
     "execution_count": 24,
     "metadata": {},
     "output_type": "execute_result"
    },
    {
     "data": {
      "image/png": "[encoded data removed]",
      "text/plain": [
       "<Figure size 432x288 with 1 Axes>"
      ]
     },
     "metadata": {
      "needs_background": "light"
     },
     "output_type": "display_data"
    }
   ],
   "source": [
    "qsoOnly.plot(kind=\"scatter\",x='redshift',y='plate')"
   ]
  },
  {
   "cell_type": "code",
   "execution_count": 26,
   "metadata": {},
   "outputs": [
    {
     "name": "stdout",
     "output_type": "stream",
     "text": [
      "(680, 18)\n",
      "(680,)\n"
     ]
    },
    {
     "data": {
      "text/plain": [
       "(array([13., 35., 39., 31., 24., 22., 31., 25., 34., 27., 34., 35., 42.,\n",
       "        32., 36., 38., 39., 37., 30., 24., 17., 10.,  3., 10.,  3.,  2.,\n",
       "         1.,  1.,  1.,  0.,  0.,  0.,  0.,  0.,  0.,  1.,  1.,  0.,  1.,\n",
       "         0.,  0.,  0.,  0.,  0.,  0.,  0.,  0.,  0.,  0.,  1.]),\n",
       " array([4.60623000e-04, 1.07528491e-01, 2.14596358e-01, 3.21664226e-01,\n",
       "        4.28732093e-01, 5.35799961e-01, 6.42867828e-01, 7.49935696e-01,\n",
       "        8.57003563e-01, 9.64071431e-01, 1.07113930e+00, 1.17820717e+00,\n",
       "        1.28527503e+00, 1.39234290e+00, 1.49941077e+00, 1.60647864e+00,\n",
       "        1.71354650e+00, 1.82061437e+00, 1.92768224e+00, 2.03475011e+00,\n",
       "        2.14181797e+00, 2.24888584e+00, 2.35595371e+00, 2.46302158e+00,\n",
       "        2.57008944e+00, 2.67715731e+00, 2.78422518e+00, 2.89129305e+00,\n",
       "        2.99836091e+00, 3.10542878e+00, 3.21249665e+00, 3.31956452e+00,\n",
       "        3.42663238e+00, 3.53370025e+00, 3.64076812e+00, 3.74783599e+00,\n",
       "        3.85490385e+00, 3.96197172e+00, 4.06903959e+00, 4.17610746e+00,\n",
       "        4.28317532e+00, 4.39024319e+00, 4.49731106e+00, 4.60437893e+00,\n",
       "        4.71144679e+00, 4.81851466e+00, 4.92558253e+00, 5.03265040e+00,\n",
       "        5.13971826e+00, 5.24678613e+00, 5.35385400e+00]),\n",
       " <a list of 50 Patch objects>)"
      ]
     },
     "execution_count": 26,
     "metadata": {},
     "output_type": "execute_result"
    },
    {
     "data": {
      "image/png": "[encoded data removed]",
      "text/plain": [
       "<Figure size 432x288 with 1 Axes>"
      ]
     },
     "metadata": {
      "needs_background": "light"
     },
     "output_type": "display_data"
    }
   ],
   "source": [
    "#Get a training set for the qso's\n",
    "X_train_full=qsoOnly[:680] #80% of the amount of qso data is 680\n",
    "y_train_label=X_train_full[\"redshift\"]\n",
    "print(X_train_full.shape)\n",
    "print(y_train_label.shape)\n",
    "# Look at correlations\n",
    "corr_matrix=X_train_full.corr()\n",
    "corr_matrix[\"redshift\"].sort_values(ascending=False)\n",
    "#corr_matrix[\"class\"].sort_values(ascending=False)\n",
    "plt.hist(y_train_label,bins=50)"
   ]
  },
  {
   "cell_type": "code",
   "execution_count": 27,
   "metadata": {},
   "outputs": [
    {
     "name": "stdout",
     "output_type": "stream",
     "text": [
      "             u         g         r         i         z  class\n",
      "15    18.73832  18.60962  18.39696  18.31174  17.97663      2\n",
      "17    19.22143  19.30248  19.13823  19.11351  19.23454      2\n",
      "22    19.07731  18.64518  18.49678  18.52677  18.45765      2\n",
      "45    17.55001  17.42367  17.35734  17.19343  16.97589      2\n",
      "62    19.52565  19.29625  18.95885  18.52108  18.57694      2\n",
      "...        ...       ...       ...       ...       ...    ...\n",
      "8079  17.83703  17.50361  17.47462  17.35455  17.37213      2\n",
      "8116  18.51731  18.44126  18.28311  18.35011  18.32104      2\n",
      "8133  19.25848  18.30828  17.98071  17.94991  17.66827      2\n",
      "8140  19.10809  19.03490  18.74865  18.62078  18.50881      2\n",
      "8141  18.29481  18.26686  18.07180  17.99218  18.04465      2\n",
      "\n",
      "[680 rows x 6 columns]\n",
      "(680, 18) (680, 6)\n"
     ]
    }
   ],
   "source": [
    "#Drop the non important features, keep the magnitudes and z\n",
    "X_train=X_train_full.drop(columns=[\"mjd\",\"redshift\",\"plate\",\"fiberid\",\"specobjid\",\"field\",\"camcol\",\"run\",\"rerun\",\"objid\",\"ra\",\"dec\"],axis=1)#,inplace=True)\n",
    "print(X_train)\n",
    "print(X_train_full.shape,X_train.shape)"
   ]
  },
  {
   "cell_type": "code",
   "execution_count": 28,
   "metadata": {},
   "outputs": [
    {
     "name": "stdout",
     "output_type": "stream",
     "text": [
      "Score= 0.21753320583177682\n"
     ]
    },
    {
     "data": {
      "image/png": "[encoded data removed]",
      "text/plain": [
       "<Figure size 432x288 with 1 Axes>"
      ]
     },
     "metadata": {
      "needs_background": "light"
     },
     "output_type": "display_data"
    }
   ],
   "source": [
    "from sklearn.linear_model import LinearRegression\n",
    "lin_reg=LinearRegression()\n",
    "result=lin_reg.fit(X_train,y_train_label)\n",
    "plt.hist(lin_reg.predict(X_train),bins=50)\n",
    "##There are a variety of scores one can use.\n",
    "## The simplest is the one in the method:\n",
    "print('Score= '+str(lin_reg.score(X_train,y_train_label)))"
   ]
  },
  {
   "cell_type": "code",
   "execution_count": 29,
   "metadata": {},
   "outputs": [
    {
     "name": "stdout",
     "output_type": "stream",
     "text": [
      "[ 0.28004819 -1.31863747  1.21417328 -0.73617046  0.77498914  0.        ]\n"
     ]
    }
   ],
   "source": [
    "### Some of its attributes\n",
    "coeff=result.coef_\n",
    "print((coeff))"
   ]
  },
  {
   "cell_type": "code",
   "execution_count": 31,
   "metadata": {},
   "outputs": [
    {
     "name": "stdout",
     "output_type": "stream",
     "text": [
      "[ 0.28004819 -1.31863747  1.21417328 -0.73617046  0.77498914  0.        ]\n",
      "[0.95014941 1.45646976]\n",
      "15    0.271937\n",
      "17    1.178098\n",
      "Name: redshift, dtype: float64\n",
      "Score= 0.21753320583177682\n"
     ]
    },
    {
     "data": {
      "image/png": "[encoded data removed]",
      "text/plain": [
       "<Figure size 432x288 with 1 Axes>"
      ]
     },
     "metadata": {
      "needs_background": "light"
     },
     "output_type": "display_data"
    }
   ],
   "source": [
    "### Do it again this time normalizing:\n",
    "lin_reg=LinearRegression(normalize=True)\n",
    "result_norm=lin_reg.fit(X_train,y_train_label)\n",
    "coeff_norm=result_norm.coef_\n",
    "print(coeff_norm)\n",
    "print(lin_reg.predict(X_train[:2]))\n",
    "#print((X_train_full[:2]))\n",
    "print(y_train_label[:2])\n",
    "#plt.hist(lin_reg.predict(X_train_full),bins=50)\n",
    "plt.scatter(lin_reg.predict(X_train),y_train_label)\n",
    "plt.xlabel('$z_{predicted}$')\n",
    "plt.ylabel('$z_{true}$')\n",
    "plt.axis([0,5,0,5])\n",
    "print('Score= '+str(lin_reg.score(X_train,y_train_label)))\n",
    "# Still does better than stars, but not as good as galaxies. "
   ]
  }
 ],
 "metadata": {
  "kernelspec": {
   "display_name": "Python 3",
   "language": "python",
   "name": "python3"
  },
  "language_info": {
   "codemirror_mode": {
    "name": "ipython",
    "version": 3
   },
   "file_extension": ".py",
   "mimetype": "text/x-python",
   "name": "python",
   "nbconvert_exporter": "python",
   "pygments_lexer": "ipython3",
   "version": "3.8.3"
  }
 },
 "nbformat": 4,
 "nbformat_minor": 4
}
