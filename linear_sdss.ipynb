{
 "cells": [
  {
   "cell_type": "code",
   "execution_count": 18,
   "metadata": {},
   "outputs": [],
   "source": [
    "import pandas as pd\n",
    "import matplotlib.pyplot as plt\n",
    "import numpy as np"
   ]
  },
  {
   "cell_type": "code",
   "execution_count": 19,
   "metadata": {},
   "outputs": [],
   "source": [
    "#From\n",
    "#https://www.kaggle.com/lucidlenn/sloan-digital-sky-survey\n",
    "sdss=pd.read_csv('Skyserver_SQL2_27_2018 6_51_39 PM.csv')"
   ]
  },
  {
   "cell_type": "code",
   "execution_count": 20,
   "metadata": {},
   "outputs": [
    {
     "name": "stdout",
     "output_type": "stream",
     "text": [
      "<class 'pandas.core.frame.DataFrame'>\n",
      "RangeIndex: 10000 entries, 0 to 9999\n",
      "Data columns (total 18 columns):\n",
      "objid        10000 non-null float64\n",
      "ra           10000 non-null float64\n",
      "dec          10000 non-null float64\n",
      "u            10000 non-null float64\n",
      "g            10000 non-null float64\n",
      "r            10000 non-null float64\n",
      "i            10000 non-null float64\n",
      "z            10000 non-null float64\n",
      "run          10000 non-null int64\n",
      "rerun        10000 non-null int64\n",
      "camcol       10000 non-null int64\n",
      "field        10000 non-null int64\n",
      "specobjid    10000 non-null float64\n",
      "class        10000 non-null object\n",
      "redshift     10000 non-null float64\n",
      "plate        10000 non-null int64\n",
      "mjd          10000 non-null int64\n",
      "fiberid      10000 non-null int64\n",
      "dtypes: float64(10), int64(7), object(1)\n",
      "memory usage: 1.4+ MB\n"
     ]
    }
   ],
   "source": [
    "sdss.info()"
   ]
  },
  {
   "cell_type": "code",
   "execution_count": 21,
   "metadata": {},
   "outputs": [
    {
     "name": "stdout",
     "output_type": "stream",
     "text": [
      "<class 'pandas.core.frame.DataFrame'>\n",
      "RangeIndex: 10000 entries, 0 to 9999\n",
      "Data columns (total 18 columns):\n",
      "objid        10000 non-null float64\n",
      "ra           10000 non-null float64\n",
      "dec          10000 non-null float64\n",
      "u            10000 non-null float64\n",
      "g            10000 non-null float64\n",
      "r            10000 non-null float64\n",
      "i            10000 non-null float64\n",
      "z            10000 non-null float64\n",
      "run          10000 non-null int64\n",
      "rerun        10000 non-null int64\n",
      "camcol       10000 non-null int64\n",
      "field        10000 non-null int64\n",
      "specobjid    10000 non-null float64\n",
      "class        10000 non-null int32\n",
      "redshift     10000 non-null float64\n",
      "plate        10000 non-null int64\n",
      "mjd          10000 non-null int64\n",
      "fiberid      10000 non-null int64\n",
      "dtypes: float64(10), int32(1), int64(7)\n",
      "memory usage: 1.3 MB\n"
     ]
    }
   ],
   "source": [
    "## Convert class column to integer\n",
    "sdss[\"class\"]=np.where(sdss[\"class\"]=='QSO','2',sdss[\"class\"])#.astype(int)\n",
    "sdss[\"class\"]=np.where(sdss[\"class\"]=='STAR','0',sdss[\"class\"])#.astype(int)\n",
    "sdss[\"class\"]=np.where(sdss[\"class\"]=='GALAXY','1',sdss[\"class\"])#.astype(int)\n",
    "sdssc=sdss.astype({'class':int})\n",
    "sdssc.info()"
   ]
  },
  {
   "cell_type": "code",
   "execution_count": 22,
   "metadata": {},
   "outputs": [
    {
     "data": {
      "text/html": [
       "<div>\n",
       "<style scoped>\n",
       "    .dataframe tbody tr th:only-of-type {\n",
       "        vertical-align: middle;\n",
       "    }\n",
       "\n",
       "    .dataframe tbody tr th {\n",
       "        vertical-align: top;\n",
       "    }\n",
       "\n",
       "    .dataframe thead th {\n",
       "        text-align: right;\n",
       "    }\n",
       "</style>\n",
       "<table border=\"1\" class=\"dataframe\">\n",
       "  <thead>\n",
       "    <tr style=\"text-align: right;\">\n",
       "      <th></th>\n",
       "      <th>objid</th>\n",
       "      <th>ra</th>\n",
       "      <th>dec</th>\n",
       "      <th>u</th>\n",
       "      <th>g</th>\n",
       "      <th>r</th>\n",
       "      <th>i</th>\n",
       "      <th>z</th>\n",
       "      <th>run</th>\n",
       "      <th>rerun</th>\n",
       "      <th>camcol</th>\n",
       "      <th>field</th>\n",
       "      <th>specobjid</th>\n",
       "      <th>class</th>\n",
       "      <th>redshift</th>\n",
       "      <th>plate</th>\n",
       "      <th>mjd</th>\n",
       "      <th>fiberid</th>\n",
       "    </tr>\n",
       "  </thead>\n",
       "  <tbody>\n",
       "    <tr>\n",
       "      <th>count</th>\n",
       "      <td>1.000000e+04</td>\n",
       "      <td>10000.000000</td>\n",
       "      <td>10000.000000</td>\n",
       "      <td>10000.000000</td>\n",
       "      <td>10000.000000</td>\n",
       "      <td>10000.000000</td>\n",
       "      <td>10000.000000</td>\n",
       "      <td>10000.000000</td>\n",
       "      <td>10000.000000</td>\n",
       "      <td>10000.0</td>\n",
       "      <td>10000.000000</td>\n",
       "      <td>10000.000000</td>\n",
       "      <td>1.000000e+04</td>\n",
       "      <td>10000.000000</td>\n",
       "      <td>10000.000000</td>\n",
       "      <td>10000.000000</td>\n",
       "      <td>10000.000000</td>\n",
       "      <td>10000.000000</td>\n",
       "    </tr>\n",
       "    <tr>\n",
       "      <th>mean</th>\n",
       "      <td>1.237650e+18</td>\n",
       "      <td>175.529987</td>\n",
       "      <td>14.836148</td>\n",
       "      <td>18.619355</td>\n",
       "      <td>17.371931</td>\n",
       "      <td>16.840963</td>\n",
       "      <td>16.583579</td>\n",
       "      <td>16.422833</td>\n",
       "      <td>981.034800</td>\n",
       "      <td>301.0</td>\n",
       "      <td>3.648700</td>\n",
       "      <td>302.380100</td>\n",
       "      <td>1.645022e+18</td>\n",
       "      <td>0.669800</td>\n",
       "      <td>0.143726</td>\n",
       "      <td>1460.986400</td>\n",
       "      <td>52943.533300</td>\n",
       "      <td>353.069400</td>\n",
       "    </tr>\n",
       "    <tr>\n",
       "      <th>std</th>\n",
       "      <td>1.577039e+05</td>\n",
       "      <td>47.783439</td>\n",
       "      <td>25.212207</td>\n",
       "      <td>0.828656</td>\n",
       "      <td>0.945457</td>\n",
       "      <td>1.067764</td>\n",
       "      <td>1.141805</td>\n",
       "      <td>1.203188</td>\n",
       "      <td>273.305024</td>\n",
       "      <td>0.0</td>\n",
       "      <td>1.666183</td>\n",
       "      <td>162.577763</td>\n",
       "      <td>2.013998e+18</td>\n",
       "      <td>0.625465</td>\n",
       "      <td>0.388774</td>\n",
       "      <td>1788.778371</td>\n",
       "      <td>1511.150651</td>\n",
       "      <td>206.298149</td>\n",
       "    </tr>\n",
       "    <tr>\n",
       "      <th>min</th>\n",
       "      <td>1.237650e+18</td>\n",
       "      <td>8.235100</td>\n",
       "      <td>-5.382632</td>\n",
       "      <td>12.988970</td>\n",
       "      <td>12.799550</td>\n",
       "      <td>12.431600</td>\n",
       "      <td>11.947210</td>\n",
       "      <td>11.610410</td>\n",
       "      <td>308.000000</td>\n",
       "      <td>301.0</td>\n",
       "      <td>1.000000</td>\n",
       "      <td>11.000000</td>\n",
       "      <td>2.995780e+17</td>\n",
       "      <td>0.000000</td>\n",
       "      <td>-0.004136</td>\n",
       "      <td>266.000000</td>\n",
       "      <td>51578.000000</td>\n",
       "      <td>1.000000</td>\n",
       "    </tr>\n",
       "    <tr>\n",
       "      <th>25%</th>\n",
       "      <td>1.237650e+18</td>\n",
       "      <td>157.370946</td>\n",
       "      <td>-0.539035</td>\n",
       "      <td>18.178035</td>\n",
       "      <td>16.815100</td>\n",
       "      <td>16.173333</td>\n",
       "      <td>15.853705</td>\n",
       "      <td>15.618285</td>\n",
       "      <td>752.000000</td>\n",
       "      <td>301.0</td>\n",
       "      <td>2.000000</td>\n",
       "      <td>184.000000</td>\n",
       "      <td>3.389248e+17</td>\n",
       "      <td>0.000000</td>\n",
       "      <td>0.000081</td>\n",
       "      <td>301.000000</td>\n",
       "      <td>51900.000000</td>\n",
       "      <td>186.750000</td>\n",
       "    </tr>\n",
       "    <tr>\n",
       "      <th>50%</th>\n",
       "      <td>1.237650e+18</td>\n",
       "      <td>180.394514</td>\n",
       "      <td>0.404166</td>\n",
       "      <td>18.853095</td>\n",
       "      <td>17.495135</td>\n",
       "      <td>16.858770</td>\n",
       "      <td>16.554985</td>\n",
       "      <td>16.389945</td>\n",
       "      <td>756.000000</td>\n",
       "      <td>301.0</td>\n",
       "      <td>4.000000</td>\n",
       "      <td>299.000000</td>\n",
       "      <td>4.966580e+17</td>\n",
       "      <td>1.000000</td>\n",
       "      <td>0.042591</td>\n",
       "      <td>441.000000</td>\n",
       "      <td>51997.000000</td>\n",
       "      <td>351.000000</td>\n",
       "    </tr>\n",
       "    <tr>\n",
       "      <th>75%</th>\n",
       "      <td>1.237650e+18</td>\n",
       "      <td>201.547279</td>\n",
       "      <td>35.649397</td>\n",
       "      <td>19.259232</td>\n",
       "      <td>18.010145</td>\n",
       "      <td>17.512675</td>\n",
       "      <td>17.258550</td>\n",
       "      <td>17.141447</td>\n",
       "      <td>1331.000000</td>\n",
       "      <td>301.0</td>\n",
       "      <td>5.000000</td>\n",
       "      <td>414.000000</td>\n",
       "      <td>2.881300e+18</td>\n",
       "      <td>1.000000</td>\n",
       "      <td>0.092579</td>\n",
       "      <td>2559.000000</td>\n",
       "      <td>54468.000000</td>\n",
       "      <td>510.000000</td>\n",
       "    </tr>\n",
       "    <tr>\n",
       "      <th>max</th>\n",
       "      <td>1.237650e+18</td>\n",
       "      <td>260.884382</td>\n",
       "      <td>68.542265</td>\n",
       "      <td>19.599900</td>\n",
       "      <td>19.918970</td>\n",
       "      <td>24.802040</td>\n",
       "      <td>28.179630</td>\n",
       "      <td>22.833060</td>\n",
       "      <td>1412.000000</td>\n",
       "      <td>301.0</td>\n",
       "      <td>6.000000</td>\n",
       "      <td>768.000000</td>\n",
       "      <td>9.468830e+18</td>\n",
       "      <td>2.000000</td>\n",
       "      <td>5.353854</td>\n",
       "      <td>8410.000000</td>\n",
       "      <td>57481.000000</td>\n",
       "      <td>1000.000000</td>\n",
       "    </tr>\n",
       "  </tbody>\n",
       "</table>\n",
       "</div>"
      ],
      "text/plain": [
       "              objid            ra           dec             u             g  \\\n",
       "count  1.000000e+04  10000.000000  10000.000000  10000.000000  10000.000000   \n",
       "mean   1.237650e+18    175.529987     14.836148     18.619355     17.371931   \n",
       "std    1.577039e+05     47.783439     25.212207      0.828656      0.945457   \n",
       "min    1.237650e+18      8.235100     -5.382632     12.988970     12.799550   \n",
       "25%    1.237650e+18    157.370946     -0.539035     18.178035     16.815100   \n",
       "50%    1.237650e+18    180.394514      0.404166     18.853095     17.495135   \n",
       "75%    1.237650e+18    201.547279     35.649397     19.259232     18.010145   \n",
       "max    1.237650e+18    260.884382     68.542265     19.599900     19.918970   \n",
       "\n",
       "                  r             i             z           run    rerun  \\\n",
       "count  10000.000000  10000.000000  10000.000000  10000.000000  10000.0   \n",
       "mean      16.840963     16.583579     16.422833    981.034800    301.0   \n",
       "std        1.067764      1.141805      1.203188    273.305024      0.0   \n",
       "min       12.431600     11.947210     11.610410    308.000000    301.0   \n",
       "25%       16.173333     15.853705     15.618285    752.000000    301.0   \n",
       "50%       16.858770     16.554985     16.389945    756.000000    301.0   \n",
       "75%       17.512675     17.258550     17.141447   1331.000000    301.0   \n",
       "max       24.802040     28.179630     22.833060   1412.000000    301.0   \n",
       "\n",
       "             camcol         field     specobjid         class      redshift  \\\n",
       "count  10000.000000  10000.000000  1.000000e+04  10000.000000  10000.000000   \n",
       "mean       3.648700    302.380100  1.645022e+18      0.669800      0.143726   \n",
       "std        1.666183    162.577763  2.013998e+18      0.625465      0.388774   \n",
       "min        1.000000     11.000000  2.995780e+17      0.000000     -0.004136   \n",
       "25%        2.000000    184.000000  3.389248e+17      0.000000      0.000081   \n",
       "50%        4.000000    299.000000  4.966580e+17      1.000000      0.042591   \n",
       "75%        5.000000    414.000000  2.881300e+18      1.000000      0.092579   \n",
       "max        6.000000    768.000000  9.468830e+18      2.000000      5.353854   \n",
       "\n",
       "              plate           mjd       fiberid  \n",
       "count  10000.000000  10000.000000  10000.000000  \n",
       "mean    1460.986400  52943.533300    353.069400  \n",
       "std     1788.778371   1511.150651    206.298149  \n",
       "min      266.000000  51578.000000      1.000000  \n",
       "25%      301.000000  51900.000000    186.750000  \n",
       "50%      441.000000  51997.000000    351.000000  \n",
       "75%     2559.000000  54468.000000    510.000000  \n",
       "max     8410.000000  57481.000000   1000.000000  "
      ]
     },
     "execution_count": 22,
     "metadata": {},
     "output_type": "execute_result"
    }
   ],
   "source": [
    "sdssc.describe()"
   ]
  },
  {
   "cell_type": "code",
   "execution_count": 23,
   "metadata": {},
   "outputs": [
    {
     "data": {
      "text/plain": [
       "<matplotlib.axes._subplots.AxesSubplot at 0x25d1a71ea20>"
      ]
     },
     "execution_count": 23,
     "metadata": {},
     "output_type": "execute_result"
    },
    {
     "data": {
      "image/png": "[encoded data removed]",
      "text/plain": [
       "<Figure size 432x288 with 2 Axes>"
      ]
     },
     "metadata": {
      "needs_background": "light"
     },
     "output_type": "display_data"
    }
   ],
   "source": [
    "#Visualize the data\n",
    "sdssc.plot(kind=\"scatter\",x=\"ra\",y=\"dec\",c=\"class\",alpha=0.1,cmap=plt.get_cmap(\"jet\"),colorbar=True)"
   ]
  },
  {
   "cell_type": "code",
   "execution_count": 24,
   "metadata": {},
   "outputs": [
    {
     "data": {
      "text/plain": [
       "<matplotlib.axes._subplots.AxesSubplot at 0x25d1ba757b8>"
      ]
     },
     "execution_count": 24,
     "metadata": {},
     "output_type": "execute_result"
    },
    {
     "data": {
      "image/png": "[encoded data removed]",
      "text/plain": [
       "<Figure size 432x288 with 1 Axes>"
      ]
     },
     "metadata": {
      "needs_background": "light"
     },
     "output_type": "display_data"
    }
   ],
   "source": [
    "sdssc.plot(kind=\"scatter\",x='redshift',y='plate')\n",
    "\n",
    "#This is going to cause problems, because there are really weird, nonlinear correlations that will mess things up"
   ]
  },
  {
   "cell_type": "code",
   "execution_count": 25,
   "metadata": {},
   "outputs": [
    {
     "name": "stdout",
     "output_type": "stream",
     "text": [
      "(8000, 18)\n",
      "(8000,)\n"
     ]
    },
    {
     "data": {
      "text/plain": [
       "(array([6.424e+03, 9.300e+02, 5.100e+01, 3.300e+01, 2.900e+01, 2.300e+01,\n",
       "        2.900e+01, 2.900e+01, 3.300e+01, 2.700e+01, 3.100e+01, 3.800e+01,\n",
       "        4.000e+01, 3.100e+01, 3.500e+01, 3.900e+01, 3.800e+01, 3.600e+01,\n",
       "        2.800e+01, 2.300e+01, 1.800e+01, 1.000e+01, 4.000e+00, 9.000e+00,\n",
       "        3.000e+00, 2.000e+00, 1.000e+00, 1.000e+00, 1.000e+00, 0.000e+00,\n",
       "        0.000e+00, 0.000e+00, 0.000e+00, 0.000e+00, 0.000e+00, 1.000e+00,\n",
       "        1.000e+00, 0.000e+00, 1.000e+00, 0.000e+00, 0.000e+00, 0.000e+00,\n",
       "        0.000e+00, 0.000e+00, 0.000e+00, 0.000e+00, 0.000e+00, 0.000e+00,\n",
       "        0.000e+00, 1.000e+00]),\n",
       " array([-4.13607800e-03,  1.03023724e-01,  2.10183525e-01,  3.17343327e-01,\n",
       "         4.24503128e-01,  5.31662930e-01,  6.38822731e-01,  7.45982533e-01,\n",
       "         8.53142334e-01,  9.60302136e-01,  1.06746194e+00,  1.17462174e+00,\n",
       "         1.28178154e+00,  1.38894134e+00,  1.49610114e+00,  1.60326095e+00,\n",
       "         1.71042075e+00,  1.81758055e+00,  1.92474035e+00,  2.03190015e+00,\n",
       "         2.13905995e+00,  2.24621975e+00,  2.35337956e+00,  2.46053936e+00,\n",
       "         2.56769916e+00,  2.67485896e+00,  2.78201876e+00,  2.88917856e+00,\n",
       "         2.99633837e+00,  3.10349817e+00,  3.21065797e+00,  3.31781777e+00,\n",
       "         3.42497757e+00,  3.53213737e+00,  3.63929718e+00,  3.74645698e+00,\n",
       "         3.85361678e+00,  3.96077658e+00,  4.06793638e+00,  4.17509618e+00,\n",
       "         4.28225598e+00,  4.38941579e+00,  4.49657559e+00,  4.60373539e+00,\n",
       "         4.71089519e+00,  4.81805499e+00,  4.92521479e+00,  5.03237460e+00,\n",
       "         5.13953440e+00,  5.24669420e+00,  5.35385400e+00]),\n",
       " <a list of 50 Patch objects>)"
      ]
     },
     "execution_count": 25,
     "metadata": {},
     "output_type": "execute_result"
    },
    {
     "data": {
      "image/png": "[encoded data removed]",
      "text/plain": [
       "<Figure size 432x288 with 1 Axes>"
      ]
     },
     "metadata": {
      "needs_background": "light"
     },
     "output_type": "display_data"
    }
   ],
   "source": [
    "#Get a training set \n",
    "X_train_full=sdssc[:8000]\n",
    "y_train_label=X_train_full[\"redshift\"]\n",
    "print(X_train_full.shape)\n",
    "print(y_train_label.shape)\n",
    "# Look at correlations\n",
    "corr_matrix=X_train_full.corr()\n",
    "corr_matrix[\"redshift\"].sort_values(ascending=False)\n",
    "#corr_matrix[\"class\"].sort_values(ascending=False)\n",
    "plt.hist(y_train_label,bins=50)"
   ]
  },
  {
   "cell_type": "code",
   "execution_count": 26,
   "metadata": {},
   "outputs": [
    {
     "name": "stdout",
     "output_type": "stream",
     "text": [
      "(8000, 18) (8000, 6)\n"
     ]
    }
   ],
   "source": [
    "X_train=X_train_full.drop(columns = [\"mjd\",\"redshift\",\"plate\",\"fiberid\",\"specobjid\",\"field\",\"camcol\",\"run\",\"rerun\",\"objid\",\"ra\",\"dec\"]\n",
    "                          ,axis=1)#,inplace=True)\n",
    "print(X_train_full.shape,X_train.shape)"
   ]
  },
  {
   "cell_type": "code",
   "execution_count": 27,
   "metadata": {},
   "outputs": [
    {
     "name": "stdout",
     "output_type": "stream",
     "text": [
      "Score= 0.5536913131316833\n"
     ]
    },
    {
     "data": {
      "text/plain": [
       "'The coefficient R^2 is defined as (1-u/v), where u is the residual \\nsum of squares ((y_true - y_pred) ** 2).sum() and v is the total sum \\nof squares ((y_true - y_true.mean()) ** 2).sum()'"
      ]
     },
     "execution_count": 27,
     "metadata": {},
     "output_type": "execute_result"
    },
    {
     "data": {
      "image/png": "[encoded data removed]",
      "text/plain": [
       "<Figure size 432x288 with 1 Axes>"
      ]
     },
     "metadata": {
      "needs_background": "light"
     },
     "output_type": "display_data"
    }
   ],
   "source": [
    "from sklearn.linear_model import LinearRegression\n",
    "lin_reg=LinearRegression()\n",
    "result=lin_reg.fit(X_train,y_train_label)\n",
    "plt.hist(lin_reg.predict(X_train),bins=50)\n",
    "##There are a variety of scores one can use.\n",
    "## The simplest is the one in the method:\n",
    "print('Score= '+str(lin_reg.score(X_train,y_train_label)))\n",
    "'''The coefficient R^2 is defined as (1-u/v), where u is the residual \n",
    "sum of squares ((y_true - y_pred) ** 2).sum() and v is the total sum \n",
    "of squares ((y_true - y_true.mean()) ** 2).sum()'''\n"
   ]
  },
  {
   "cell_type": "code",
   "execution_count": 28,
   "metadata": {},
   "outputs": [
    {
     "name": "stdout",
     "output_type": "stream",
     "text": [
      "[-0.11707676  0.0902626  -0.27356165  0.01435631  0.30903079  0.41751053]\n"
     ]
    }
   ],
   "source": [
    "### Clearly, does not work so well. Let's see why.\n",
    "### Some of its attributes\n",
    "coeff=result.coef_\n",
    "print((coeff))\n",
    "### The problem is the mismatched amplitudes of the features\n"
   ]
  },
  {
   "cell_type": "code",
   "execution_count": 29,
   "metadata": {},
   "outputs": [
    {
     "name": "stdout",
     "output_type": "stream",
     "text": [
      "[-0.11707676  0.0902626  -0.27356165  0.01435631  0.30903079  0.41751053]\n",
      "[-0.40684736 -0.1213237 ]\n",
      "0   -0.000009\n",
      "1   -0.000055\n",
      "Name: redshift, dtype: float64\n",
      "Score= 0.5536913131316834\n"
     ]
    },
    {
     "data": {
      "image/png": "[encoded data removed]",
      "text/plain": [
       "<Figure size 432x288 with 1 Axes>"
      ]
     },
     "metadata": {
      "needs_background": "light"
     },
     "output_type": "display_data"
    }
   ],
   "source": [
    "### Do it again this time normalizing:\n",
    "lin_reg=LinearRegression(normalize=True)\n",
    "result_norm=lin_reg.fit(X_train,y_train_label)\n",
    "coeff_norm=result_norm.coef_\n",
    "print(coeff_norm)\n",
    "print(lin_reg.predict(X_train[:2]))\n",
    "#print((X_train_full[:2]))\n",
    "print(y_train_label[:2])\n",
    "#plt.hist(lin_reg.predict(X_train_full),bins=50)\n",
    "plt.scatter(lin_reg.predict(X_train),y_train_label)\n",
    "plt.xlabel('$z_{predicted}$')\n",
    "plt.ylabel('$z_{true}$')\n",
    "plt.axis([0,5.5,0,5.5])\n",
    "print('Score= '+str(lin_reg.score(X_train,y_train_label)))\n"
   ]
  },
  {
   "cell_type": "code",
   "execution_count": 30,
   "metadata": {},
   "outputs": [
    {
     "name": "stdout",
     "output_type": "stream",
     "text": [
      "i 0.014356314754083324\n",
      "g 0.09026260284119261\n",
      "u -0.1170767647691271\n",
      "r -0.2735616457086979\n",
      "z 0.30903078580418564\n",
      "class 0.4175105316221837\n",
      "Index(['u', 'g', 'r', 'i', 'z', 'class'], dtype='object')\n"
     ]
    }
   ],
   "source": [
    "### This does better but still not well. \n",
    "### Look at the coefficients that are largest here are:\n",
    "ind=np.argsort(np.abs(coeff_norm))\n",
    "for i in ind:\n",
    "    print(X_train.columns[i],coeff_norm[i])\n",
    "print(X_train.columns)"
   ]
  },
  {
   "cell_type": "markdown",
   "metadata": {},
   "source": [
    "It makes sense that the colors and the type have relatively large coefficients and the class since stars will have very low redshifts and galaxies and QSO'S will have much larger ones. (It does not make sense to me that plate carries any weight.) Indeed it seems likely that the problem is that the class coefficient is trying to push all the stars to have low z and might even be doing that correctly. Let's see."
   ]
  },
  {
   "cell_type": "code",
   "execution_count": 31,
   "metadata": {},
   "outputs": [
    {
     "name": "stdout",
     "output_type": "stream",
     "text": [
      "()\n"
     ]
    },
    {
     "data": {
      "image/png": "[encoded data removed]",
      "text/plain": [
       "<Figure size 432x288 with 1 Axes>"
      ]
     },
     "metadata": {
      "needs_background": "light"
     },
     "output_type": "display_data"
    }
   ],
   "source": [
    "stars=X_train[X_train[\"class\"]==0]\n",
    "starz=y_train_label[X_train[\"class\"]==0]\n",
    "print(np.shape(result_norm))\n",
    "stars_predict=result_norm.predict(stars)\n",
    "plt.scatter(starz,stars_predict)\n",
    "plt.show()"
   ]
  },
  {
   "cell_type": "markdown",
   "metadata": {},
   "source": [
    "Still does not do very well. Let's fit the stars only"
   ]
  },
  {
   "cell_type": "code",
   "execution_count": 32,
   "metadata": {},
   "outputs": [
    {
     "data": {
      "image/png": "[encoded data removed]",
      "text/plain": [
       "<Figure size 432x288 with 1 Axes>"
      ]
     },
     "metadata": {
      "needs_background": "light"
     },
     "output_type": "display_data"
    }
   ],
   "source": [
    "stars_predict=lin_reg.fit(stars,starz)\n",
    "plt.scatter(starz,stars_predict.predict(stars))\n",
    "plt.show()"
   ]
  },
  {
   "cell_type": "code",
   "execution_count": 33,
   "metadata": {},
   "outputs": [
    {
     "name": "stdout",
     "output_type": "stream",
     "text": [
      "class 0.0\n",
      "i -7.738344118635257e-06\n",
      "u -2.118655032053426e-05\n",
      "z -2.6851038296970583e-05\n",
      "r 2.7759019813520382e-05\n",
      "g 3.716128245213259e-05\n"
     ]
    }
   ],
   "source": [
    "#Still does not do well; let's look at the coefficients:\n",
    "stars_co=stars_predict.coef_\n",
    "ind=np.argsort(np.abs(stars_co))\n",
    "for i in ind:\n",
    "    print(X_train.columns[i],stars_co[i])\n"
   ]
  },
  {
   "cell_type": "code",
   "execution_count": 34,
   "metadata": {},
   "outputs": [
    {
     "data": {
      "image/png": "[encoded data removed]",
      "text/plain": [
       "<Figure size 432x288 with 1 Axes>"
      ]
     },
     "metadata": {
      "needs_background": "light"
     },
     "output_type": "display_data"
    }
   ],
   "source": [
    "# The plate deature may be causing all the problems. Let's remove that and see what happens.\n",
    "X_train_np=X_train#.drop(\"plate\",axis=1)#,inplace=True)\n",
    "stars=X_train_np[X_train_np[\"class\"]==0]\n",
    "starz=y_train_label[X_train_np[\"class\"]==0]\n",
    "stars_predict=lin_reg.fit(stars,starz)\n",
    "plt.scatter(starz,stars_predict.predict(stars))\n",
    "plt.show()"
   ]
  },
  {
   "cell_type": "code",
   "execution_count": 35,
   "metadata": {},
   "outputs": [
    {
     "name": "stdout",
     "output_type": "stream",
     "text": [
      "r 0.0\n",
      "u -7.738344118635257e-06\n",
      "objid -2.118655032053426e-05\n",
      "g -2.6851038296970583e-05\n",
      "dec 2.7759019813520382e-05\n",
      "ra 3.716128245213259e-05\n"
     ]
    }
   ],
   "source": [
    "#Still does not do well; let's look at the coefficients:\n",
    "stars_co=stars_predict.coef_\n",
    "ind=np.argsort(np.abs(stars_co))\n",
    "for i in ind:\n",
    "    print(X_train_full.columns[i],stars_co[i])\n"
   ]
  },
  {
   "cell_type": "code",
   "execution_count": 36,
   "metadata": {},
   "outputs": [
    {
     "name": "stdout",
     "output_type": "stream",
     "text": [
      "Score= 0.0010833445204582182\n"
     ]
    }
   ],
   "source": [
    "# That's not the problem. Let's see the score\n",
    "print('Score= '+str(lin_reg.score(stars,starz)))\n"
   ]
  },
  {
   "cell_type": "code",
   "execution_count": 37,
   "metadata": {},
   "outputs": [
    {
     "name": "stdout",
     "output_type": "stream",
     "text": [
      "Score= 0.30942080065583144\n"
     ]
    },
    {
     "data": {
      "image/png": "[encoded data removed]",
      "text/plain": [
       "<Figure size 432x288 with 1 Axes>"
      ]
     },
     "metadata": {
      "needs_background": "light"
     },
     "output_type": "display_data"
    }
   ],
   "source": [
    "# Maybe there are too many types of stars to do well. Let's try it on galaxies.\n",
    "galaxies=X_train_np[X_train_full[\"class\"]==1]\n",
    "galaxies_z=y_train_label[X_train_full[\"class\"]==1]\n",
    "galaxies_predict=lin_reg.fit(galaxies,galaxies_z)\n",
    "plt.scatter(galaxies_z,galaxies_predict.predict(galaxies))\n",
    "print('Score= '+str(lin_reg.score(galaxies,galaxies_z)))\n",
    "plt.show()"
   ]
  },
  {
   "cell_type": "code",
   "execution_count": 38,
   "metadata": {},
   "outputs": [
    {
     "name": "stdout",
     "output_type": "stream",
     "text": [
      "r 0.0\n",
      "g -0.019042527998045098\n",
      "dec -0.022256248042025317\n",
      "u -0.051331244430575004\n",
      "objid -0.05763555304676809\n",
      "ra 0.17165100016227788\n"
     ]
    },
    {
     "data": {
      "image/png": "[encoded data removed]",
      "text/plain": [
       "<Figure size 432x288 with 1 Axes>"
      ]
     },
     "metadata": {
      "needs_background": "light"
     },
     "output_type": "display_data"
    }
   ],
   "source": [
    "#That looks ok\n",
    "gals_co=galaxies_predict.coef_\n",
    "ind=np.argsort(np.abs(gals_co))\n",
    "for i in ind:\n",
    "    print(X_train_full.columns[i],gals_co[i])\n",
    "plt.scatter(galaxies_z,(galaxies_z-galaxies_predict.predict(galaxies))/(1.+galaxies_z))\n",
    "plt.show()"
   ]
  },
  {
   "cell_type": "code",
   "execution_count": 39,
   "metadata": {},
   "outputs": [
    {
     "data": {
      "image/png": "[encoded data removed]",
      "text/plain": [
       "<Figure size 432x288 with 1 Axes>"
      ]
     },
     "metadata": {
      "needs_background": "light"
     },
     "output_type": "display_data"
    }
   ],
   "source": [
    "# Heatmap is cooler\n",
    "heatmap, xedges, yedges = np.histogram2d(galaxies_z,galaxies_predict.predict(galaxies), bins=50)\n",
    "extent = [0,.3,0,.3]\n",
    "\n",
    "plt.clf()\n",
    "plt.imshow(heatmap.T, extent=extent, origin='lower')\n",
    "plt.show()"
   ]
  },
  {
   "cell_type": "markdown",
   "metadata": {},
   "source": [
    "Finally try it on QSOs"
   ]
  },
  {
   "cell_type": "code",
   "execution_count": 40,
   "metadata": {},
   "outputs": [
    {
     "name": "stdout",
     "output_type": "stream",
     "text": [
      "Score= 0.2215904182081636\n"
     ]
    },
    {
     "data": {
      "image/png": "[encoded data removed]",
      "text/plain": [
       "<Figure size 432x288 with 1 Axes>"
      ]
     },
     "metadata": {
      "needs_background": "light"
     },
     "output_type": "display_data"
    }
   ],
   "source": [
    "qso=X_train_np[X_train_full[\"class\"]==2]\n",
    "qso_z=y_train_label[X_train_full[\"class\"]==2]\n",
    "qso_predict=lin_reg.fit(qso,qso_z)\n",
    "plt.scatter(qso_z,qso_predict.predict(qso))\n",
    "print('Score= '+str(lin_reg.score(qso,qso_z)))\n",
    "plt.show()"
   ]
  },
  {
   "cell_type": "code",
   "execution_count": null,
   "metadata": {},
   "outputs": [],
   "source": []
  }
 ],
 "metadata": {
  "kernelspec": {
   "display_name": "Python 3",
   "language": "python",
   "name": "python3"
  },
  "language_info": {
   "codemirror_mode": {
    "name": "ipython",
    "version": 3
   },
   "file_extension": ".py",
   "mimetype": "text/x-python",
   "name": "python",
   "nbconvert_exporter": "python",
   "pygments_lexer": "ipython3",
   "version": "3.7.3"
  }
 },
 "nbformat": 4,
 "nbformat_minor": 4
}
